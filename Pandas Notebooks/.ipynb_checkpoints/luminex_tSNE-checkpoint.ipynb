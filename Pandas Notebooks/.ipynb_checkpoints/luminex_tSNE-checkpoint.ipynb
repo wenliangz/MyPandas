{
 "cells": [
  {
   "cell_type": "markdown",
   "metadata": {},
   "source": [
    "#Luminex tSNE"
   ]
  },
  {
   "cell_type": "code",
   "execution_count": 30,
   "metadata": {
    "collapsed": false
   },
   "outputs": [],
   "source": [
    "import pandas as pd\n",
    "import numpy as np\n",
    "import matplotlib.pyplot as plt\n",
    "from pandas import *\n",
    "from numpy import nan\n",
    "# Set some Pandas options\n",
    "pd.set_option('display.notebook_repr_html', False)\n",
    "pd.set_option('display.max_columns', 20)\n",
    "pd.set_option('display.max_rows', 25)\n",
    "\n",
    "from sklearn.manifold import *\n",
    "from sklearn.decomposition import PCA\n",
    "from sklearn.preprocessing import normalize\n",
    "import scipy.io\n",
    "# import bokeh.plotting as bk\n",
    "from sklearn import datasets"
   ]
  },
  {
   "cell_type": "markdown",
   "metadata": {},
   "source": [
    "##Read data"
   ]
  },
  {
   "cell_type": "code",
   "execution_count": 4,
   "metadata": {
    "collapsed": false
   },
   "outputs": [
    {
     "name": "stdout",
     "output_type": "stream",
     "text": [
      "355 451\n"
     ]
    },
    {
     "data": {
      "text/plain": [
       "                       Flt-3L       GM-CSF\n",
       "Sample                                    \n",
       "Blank                     NaN          NaN\n",
       "Blank                     NaN          NaN\n",
       "0.6 pg/ml         0.363596907  0.687809871\n",
       "0.6 pg/ml         0.363596907  0.544774197\n",
       "3.2 pg/ml          5.38374748  3.591270169\n",
       "3.2 pg/ml         3.247945738  2.907875849\n",
       "16 pg/ml          12.98990876   16.1326137\n",
       "16 pg/ml          13.73606995  15.85786358\n",
       "80 pg/ml          90.32664892  84.54039217\n",
       "80 pg/ml           82.4547262   81.9714476\n",
       "400 pg/ml         449.7123544  388.5781019\n",
       "400 pg/ml         408.3582592   362.989438\n",
       "...                       ...          ...\n",
       "800499 180 Alone  15.90307684  284.0257565\n",
       "800499 180 Alone  15.19170049  295.1175482\n",
       "800499 181 MEC-1  16.60455599  489.8479109\n",
       "800499 181 MEC-1  15.90307684  529.6189942\n",
       "800290 181 K562    14.4696591  117.1133714\n",
       "800290 181 K562   15.19170049   135.065361\n",
       "PBMC 181          15.90307684  28.08707519\n",
       "PBMC 181          16.60455599  28.93184113\n",
       "800499 181 Alone  10.66279004  34.17316686\n",
       "800499 181 Alone  12.98990876  40.62237557\n",
       "800499 181 K562   12.22997435  114.3295191\n",
       "800499 181 K562   15.19170049  133.1319282\n",
       "\n",
       "[96 rows x 2 columns]"
      ]
     },
     "execution_count": 4,
     "metadata": {},
     "output_type": "execute_result"
    }
   ],
   "source": [
    "datafile='C:/Users/wen.zhang/My Data/Luminex/TC15001 Luminex Setup JG 04Feb2015.csv'\n",
    "\n",
    "with open(datafile) as f:\n",
    "    for index,line in enumerate(f):\n",
    "        if line.strip().split(',')[0]=='DataType:' and line.strip().split(',')[1]=='Result':\n",
    "            data_start=index+1\n",
    "        elif line.strip().split(',')[0]=='DataType:' and line.strip().split(',')[1]=='Range':\n",
    "            data_end=index-2\n",
    "print (data_start,data_end)\n",
    "df=read_csv(datafile,nrows=data_end-data_start,skiprows=data_start,usecols=[1,2,3,4,5,6,7,8,9,10,11,12,13,14,15],index_col=[0])\n",
    "df[[0,1]]"
   ]
  },
  {
   "cell_type": "code",
   "execution_count": 25,
   "metadata": {
    "collapsed": false
   },
   "outputs": [
    {
     "data": {
      "text/plain": [
       "                       Flt-3L       GM-CSF         IFNg        IL-10  \\\n",
       "Sample                                                                 \n",
       "Blank                     NaN          NaN          NaN          NaN   \n",
       "Blank                     NaN          NaN          NaN          NaN   \n",
       "0.6 pg/ml         0.363596907  0.687809871  0.564085731  0.531045623   \n",
       "0.6 pg/ml         0.363596907  0.544774197  0.917209203  0.759068684   \n",
       "3.2 pg/ml          5.38374748  3.591270169  3.783595625  3.273827124   \n",
       "3.2 pg/ml         3.247945738  2.907875849  3.062736953  3.044879848   \n",
       "16 pg/ml          12.98990876   16.1326137  15.09872741  16.84362348   \n",
       "16 pg/ml          13.73606995  15.85786358  15.46641462  15.68988428   \n",
       "80 pg/ml          90.32664892  84.54039217  81.47306567  83.89518387   \n",
       "80 pg/ml           82.4547262   81.9714476  80.72117443  79.88285479   \n",
       "400 pg/ml         449.7123544  388.5781019  402.2851133  394.5873597   \n",
       "400 pg/ml         408.3582592   362.989438  373.6876495  380.5794484   \n",
       "...                       ...          ...          ...          ...   \n",
       "800499 180 Alone  15.90307684  284.0257565    564.35298   3.50282558   \n",
       "800499 180 Alone  15.19170049  295.1175482  563.5814293  4.419293128   \n",
       "800499 181 MEC-1  16.60455599  489.8479109  478.0313025  1952.248936   \n",
       "800499 181 MEC-1  15.90307684  529.6189942   541.983786  1909.407408   \n",
       "800290 181 K562    14.4696591  117.1133714  43.26866267   18.4598588   \n",
       "800290 181 K562   15.19170049   135.065361  50.35949417  20.07723121   \n",
       "PBMC 181          15.90307684  28.08707519  31.36273081  32.82202633   \n",
       "PBMC 181          16.60455599  28.93184113  32.10529126  34.79719518   \n",
       "800499 181 Alone  10.66279004  34.17316686  33.03381278  33.75134043   \n",
       "800499 181 Alone  12.98990876  40.62237557  37.68145516  30.50013312   \n",
       "800499 181 K562   12.22997435  114.3295191  50.73308182  41.19703471   \n",
       "800499 181 K562   15.19170049  133.1319282  65.14185195  37.47172702   \n",
       "\n",
       "                        IL-1B         IL-2        IL-4        IL-5  \n",
       "Sample                                                              \n",
       "Blank                     NaN          NaN         NaN         NaN  \n",
       "Blank                     NaN          NaN         NaN         NaN  \n",
       "0.6 pg/ml         0.658156369  0.552731105    0.594837    0.599992  \n",
       "0.6 pg/ml         0.554127804  0.675885391    0.594837    0.599992  \n",
       "3.2 pg/ml         3.477140511  3.377911133    3.778040    3.291329  \n",
       "3.2 pg/ml          3.08072247  3.009887151    3.248578    3.127670  \n",
       "16 pg/ml          16.18620024  15.88003087   14.334687   16.482997  \n",
       "16 pg/ml          15.33284245  16.00264783   15.388300   15.232349  \n",
       "80 pg/ml           79.6380198   86.8924476   82.037808   82.555781  \n",
       "80 pg/ml          79.18062267  80.21107791   82.037808   81.845932  \n",
       "400 pg/ml         420.4473341  399.0754056  391.523530  384.833976  \n",
       "400 pg/ml         394.3335905  372.4601474  383.710735  395.679875  \n",
       "...                       ...          ...         ...         ...  \n",
       "800499 180 Alone  0.130266986  0.429502649    8.534307   26.764208  \n",
       "800499 180 Alone  0.130266986  0.429502649    9.589738   27.862050  \n",
       "800499 181 MEC-1  0.344222583  7.055574405   28.541231   37.030386  \n",
       "800499 181 MEC-1  0.554127804  4.726796356   22.231288   36.689324  \n",
       "800290 181 K562   0.130266986  0.306176733    5.893583   11.118981  \n",
       "800290 181 K562   0.130266986  0.182709936    5.893583    9.835500  \n",
       "PBMC 181          1.679913182  0.798980099   10.644764   10.704709  \n",
       "PBMC 181          2.082709493  0.675885391   10.117299    9.794135  \n",
       "800499 181 Alone  0.019445494  0.182709936    9.589738   11.699347  \n",
       "800499 181 Alone  0.019445494  0.182709936   12.226630   10.704709  \n",
       "800499 181 K562   0.130266986  0.306176733    6.950284   12.861407  \n",
       "800499 181 K562   0.237963107  0.306176733    5.893583   12.695292  \n",
       "\n",
       "[96 rows x 8 columns]"
      ]
     },
     "execution_count": 25,
     "metadata": {},
     "output_type": "execute_result"
    }
   ],
   "source": [
    "dfmi=df.copy();dfmi[[0,1,2,3,4,5,6,7]]"
   ]
  },
  {
   "cell_type": "code",
   "execution_count": 41,
   "metadata": {
    "collapsed": false
   },
   "outputs": [
    {
     "data": {
      "text/plain": [
       "                       Flt-3L       GM-CSF\n",
       "Sample                                    \n",
       "Blank                       0            0\n",
       "Blank                       0            0\n",
       "0.6 pg/ml         0.363596907  0.687809871\n",
       "0.6 pg/ml         0.363596907  0.544774197\n",
       "3.2 pg/ml          5.38374748  3.591270169\n",
       "3.2 pg/ml         3.247945738  2.907875849\n",
       "16 pg/ml          12.98990876   16.1326137\n",
       "16 pg/ml          13.73606995  15.85786358\n",
       "80 pg/ml          90.32664892  84.54039217\n",
       "80 pg/ml           82.4547262   81.9714476\n",
       "400 pg/ml         449.7123544  388.5781019\n",
       "400 pg/ml         408.3582592   362.989438\n",
       "...                       ...          ...\n",
       "800499 180 Alone  15.90307684  284.0257565\n",
       "800499 180 Alone  15.19170049  295.1175482\n",
       "800499 181 MEC-1  16.60455599  489.8479109\n",
       "800499 181 MEC-1  15.90307684  529.6189942\n",
       "800290 181 K562    14.4696591  117.1133714\n",
       "800290 181 K562   15.19170049   135.065361\n",
       "PBMC 181          15.90307684  28.08707519\n",
       "PBMC 181          16.60455599  28.93184113\n",
       "800499 181 Alone  10.66279004  34.17316686\n",
       "800499 181 Alone  12.98990876  40.62237557\n",
       "800499 181 K562   12.22997435  114.3295191\n",
       "800499 181 K562   15.19170049  133.1319282\n",
       "\n",
       "[96 rows x 2 columns]"
      ]
     },
     "execution_count": 41,
     "metadata": {},
     "output_type": "execute_result"
    }
   ],
   "source": [
    "dfmi.replace([r'^<',nan,r'^>'], [0.,0., 10000.], regex=True,inplace=True);dfmi[[0,1]]"
   ]
  },
  {
   "cell_type": "code",
   "execution_count": 40,
   "metadata": {
    "collapsed": false
   },
   "outputs": [],
   "source": [
    "dfmi.to_csv('C:/Users/wen.zhang/My Data/Luminex/dataframe.txt')"
   ]
  },
  {
   "cell_type": "code",
   "execution_count": 43,
   "metadata": {
    "collapsed": false
   },
   "outputs": [
    {
     "data": {
      "text/plain": [
       "array([[0.0, 0.0, 0.0, ..., 0.0, 0.0, 0.0],\n",
       "       [0.0, 0.0, 0.0, ..., 0.0, 0.0, 0.0],\n",
       "       ['0.363596907', '0.687809871', '0.564085731', ..., 0.0,\n",
       "        '0.541786744', '0.616116227'],\n",
       "       ..., \n",
       "       ['12.98990876', '40.62237557', '37.68145516', ..., '181.2178271',\n",
       "        '95.30288122', '7.870587025'],\n",
       "       ['12.22997435', '114.3295191', '50.73308182', ..., '158.5351672',\n",
       "        '103.7400768', '10.51764776'],\n",
       "       ['15.19170049', '133.1319282', '65.14185195', ..., '169.9048418',\n",
       "        '112.3099765', '11.81495883']], dtype=object)"
      ]
     },
     "execution_count": 43,
     "metadata": {},
     "output_type": "execute_result"
    }
   ],
   "source": [
    "numpyMatrix = dfmi.as_matrix();numpyMatrix"
   ]
  },
  {
   "cell_type": "code",
   "execution_count": 4,
   "metadata": {
    "collapsed": false
   },
   "outputs": [
    {
     "ename": "ImportError",
     "evalue": "No module named 'addutils'",
     "output_type": "error",
     "traceback": [
      "\u001b[1;31m---------------------------------------------------------------------------\u001b[0m",
      "\u001b[1;31mImportError\u001b[0m                               Traceback (most recent call last)",
      "\u001b[1;32m<ipython-input-4-7e47265ff004>\u001b[0m in \u001b[0;36m<module>\u001b[1;34m()\u001b[0m\n\u001b[0;32m      3\u001b[0m \u001b[1;32mimport\u001b[0m \u001b[0mpandas\u001b[0m \u001b[1;32mas\u001b[0m \u001b[0mpd\u001b[0m\u001b[1;33m\u001b[0m\u001b[0m\n\u001b[0;32m      4\u001b[0m \u001b[1;32mfrom\u001b[0m \u001b[0msklearn\u001b[0m\u001b[1;33m.\u001b[0m\u001b[0mmanifold\u001b[0m \u001b[1;32mimport\u001b[0m \u001b[0mTSNE\u001b[0m\u001b[1;33m\u001b[0m\u001b[0m\n\u001b[1;32m----> 5\u001b[1;33m \u001b[1;32mimport\u001b[0m \u001b[0maddutils\u001b[0m\u001b[1;33m.\u001b[0m\u001b[0mtoc\u001b[0m\u001b[1;33m;\u001b[0m \u001b[0maddutils\u001b[0m\u001b[1;33m.\u001b[0m\u001b[0mtoc\u001b[0m\u001b[1;33m.\u001b[0m\u001b[0mjs\u001b[0m\u001b[1;33m(\u001b[0m\u001b[0mipy_notebook\u001b[0m\u001b[1;33m=\u001b[0m\u001b[1;32mTrue\u001b[0m\u001b[1;33m)\u001b[0m\u001b[1;33m\u001b[0m\u001b[0m\n\u001b[0m\u001b[0;32m      6\u001b[0m \u001b[1;32mimport\u001b[0m \u001b[0maddutils\u001b[0m\u001b[1;33m.\u001b[0m\u001b[0mpalette\u001b[0m \u001b[1;32mas\u001b[0m \u001b[0mpal\u001b[0m\u001b[1;33m\u001b[0m\u001b[0m\n\u001b[0;32m      7\u001b[0m \u001b[1;32mimport\u001b[0m \u001b[0mscipy\u001b[0m\u001b[1;33m.\u001b[0m\u001b[0mio\u001b[0m\u001b[1;33m\u001b[0m\u001b[0m\n",
      "\u001b[1;31mImportError\u001b[0m: No module named 'addutils'"
     ]
    }
   ],
   "source": [
    "import scipy.io\n",
    "import numpy as np\n",
    "import pandas as pd\n",
    "from sklearn.manifold import TSNE\n",
    "import addutils.toc; addutils.toc.js(ipy_notebook=True)\n",
    "import addutils.palette as pal\n",
    "import scipy.io\n",
    "from addutils import css_notebook\n",
    "import bokeh.plotting as bk\n",
    "from sklearn import datasets\n",
    "digits = datasets.load_digits()\n",
    "import seaborn as sns\n",
    "%matplotlib inline\n",
    "import matplotlib.pyplot as plt"
   ]
  },
  {
   "cell_type": "code",
   "execution_count": 3,
   "metadata": {
    "collapsed": false
   },
   "outputs": [
    {
     "ename": "ImportError",
     "evalue": "No module named 'addutils'",
     "output_type": "error",
     "traceback": [
      "\u001b[1;31m---------------------------------------------------------------------------\u001b[0m",
      "\u001b[1;31mImportError\u001b[0m                               Traceback (most recent call last)",
      "\u001b[1;32m<ipython-input-3-c6f40d9b714e>\u001b[0m in \u001b[0;36m<module>\u001b[1;34m()\u001b[0m\n\u001b[1;32m----> 1\u001b[1;33m \u001b[1;32mimport\u001b[0m \u001b[0maddutils\u001b[0m\u001b[1;33m.\u001b[0m\u001b[0mtoc\u001b[0m\u001b[1;33m\u001b[0m\u001b[0m\n\u001b[0m",
      "\u001b[1;31mImportError\u001b[0m: No module named 'addutils'"
     ]
    }
   ],
   "source": [
    "import addutils.toc"
   ]
  },
  {
   "cell_type": "code",
   "execution_count": 5,
   "metadata": {
    "collapsed": false
   },
   "outputs": [
    {
     "ename": "ImportError",
     "evalue": "No module named 'addutils'",
     "output_type": "error",
     "traceback": [
      "\u001b[1;31m---------------------------------------------------------------------------\u001b[0m",
      "\u001b[1;31mImportError\u001b[0m                               Traceback (most recent call last)",
      "\u001b[1;32m<ipython-input-5-6f932b40475b>\u001b[0m in \u001b[0;36m<module>\u001b[1;34m()\u001b[0m\n\u001b[1;32m----> 1\u001b[1;33m \u001b[1;32mimport\u001b[0m \u001b[0maddutils\u001b[0m\u001b[1;33m\u001b[0m\u001b[0m\n\u001b[0m",
      "\u001b[1;31mImportError\u001b[0m: No module named 'addutils'"
     ]
    }
   ],
   "source": [
    "import addutils"
   ]
  },
  {
   "cell_type": "code",
   "execution_count": 45,
   "metadata": {
    "collapsed": false
   },
   "outputs": [
    {
     "data": {
      "text/plain": [
       "sklearn.manifold.t_sne.TSNE"
      ]
     },
     "execution_count": 45,
     "metadata": {},
     "output_type": "execute_result"
    }
   ],
   "source": [
    "TSNE"
   ]
  },
  {
   "cell_type": "code",
   "execution_count": 49,
   "metadata": {
    "collapsed": true
   },
   "outputs": [],
   "source": [
    "t = TSNE()\n",
    "tsne_proj=t.fit_transform(numpyMatrix)"
   ]
  },
  {
   "cell_type": "code",
   "execution_count": 67,
   "metadata": {
    "collapsed": false
   },
   "outputs": [
    {
     "ename": "NameError",
     "evalue": "name 'digits' is not defined",
     "output_type": "error",
     "traceback": [
      "\u001b[1;31m---------------------------------------------------------------------------\u001b[0m",
      "\u001b[1;31mNameError\u001b[0m                                 Traceback (most recent call last)",
      "\u001b[1;32m<ipython-input-67-ced39da47876>\u001b[0m in \u001b[0;36m<module>\u001b[1;34m()\u001b[0m\n\u001b[0;32m      2\u001b[0m                     \u001b[1;34m'y'\u001b[0m\u001b[1;33m:\u001b[0m \u001b[0mtsne_proj\u001b[0m\u001b[1;33m[\u001b[0m\u001b[1;33m:\u001b[0m\u001b[1;33m,\u001b[0m\u001b[1;36m1\u001b[0m\u001b[1;33m]\u001b[0m\u001b[1;33m,\u001b[0m\u001b[1;33m\u001b[0m\u001b[0m\n\u001b[0;32m      3\u001b[0m \u001b[1;33m\u001b[0m\u001b[0m\n\u001b[1;32m----> 4\u001b[1;33m                     \u001b[1;34m'target'\u001b[0m\u001b[1;33m:\u001b[0m \u001b[0mdigits\u001b[0m\u001b[1;33m.\u001b[0m\u001b[0mtarget\u001b[0m\u001b[1;33m\u001b[0m\u001b[0m\n\u001b[0m\u001b[0;32m      5\u001b[0m                   })\n\u001b[0;32m      6\u001b[0m \u001b[0msrc\u001b[0m \u001b[1;33m=\u001b[0m \u001b[0mColumnDataSource\u001b[0m\u001b[1;33m(\u001b[0m\u001b[0mdata\u001b[0m\u001b[1;33m=\u001b[0m\u001b[0mdf\u001b[0m\u001b[1;33m)\u001b[0m\u001b[1;33m\u001b[0m\u001b[0m\n",
      "\u001b[1;31mNameError\u001b[0m: name 'digits' is not defined"
     ]
    }
   ],
   "source": [
    "df = pd.DataFrame({ 'x': tsne_proj[:,0],\n",
    "                    'y': tsne_proj[:,1],\n",
    "                    \n",
    "                    'target': digits.target\n",
    "                  })\n",
    "src = ColumnDataSource(data=df)\n",
    "\n",
    "fig = bk.figure(title='t-SNE - digits dataset', x_axis_label='c1', y_axis_label='c2',\n",
    "                plot_width=750, plot_height=450)\n",
    "fig.scatter(source=src, x='x', y='y', fill_color='color',\n",
    "            size=8, line_color='black', line_alpha=0.50)\n",
    "\n",
    "hover_tool = HoverTool(tooltips=[('target', '@target')], snap_to_data=True)\n",
    "fig.add_tools(hover_tool)\n",
    "\n",
    "bk.show(fig)"
   ]
  },
  {
   "cell_type": "code",
   "execution_count": null,
   "metadata": {
    "collapsed": true
   },
   "outputs": [],
   "source": [
    "\n",
    "\n",
    "digits = datasets.load_digits()\n",
    "\n",
    "datafile = 'C:/Users/wen.zhang/My Data/Luminex/TC15001 Luminex Setup JG 04Feb2015.csv'\n",
    "\n",
    "with open(datafile) as f:\n",
    "    for index, line in enumerate(f):\n",
    "        if line.strip().split(',')[0] == 'DataType:' and line.strip().split(',')[1] == 'Result':\n",
    "            data_start = index + 1\n",
    "        elif line.strip().split(',')[0] == 'DataType:' and line.strip().split(',')[1] == 'Range':\n",
    "            data_end = index - 2\n",
    "print(data_start, data_end)\n",
    "\n",
    "df = pd.read_csv(datafile, nrows=data_end - data_start, skiprows=data_start,\n",
    "                 usecols=[1, 2, 3, 4, 5, 6, 7, 8, 9, 10, 11, 12, 13, 14, 15], index_col=[0])\n",
    "\n",
    "df.replace([r'^<', np.nan, r'^>'], [0., 0., 10000.], regex=True, inplace=True)\n",
    "\n",
    "df = df.ix[24:, :]\n",
    "print (df)\n",
    "donors = []\n",
    "batch = []\n",
    "target_cells = []\n",
    "sample_type = []\n",
    "\n",
    "for row in df.iterrows():\n",
    "    raw_label = row[0]\n",
    "    split_label = raw_label.split(\" \")\n",
    "    if \"Patient\" in raw_label:\n",
    "        donors.append(split_label[0] + \" \" + split_label[1])\n",
    "        batch.append(split_label[2])\n",
    "        target_cells.append(\"None\")\n",
    "        sample_type.append(\"T-cells only\")\n",
    "        # to be continued\n",
    "\n",
    "df['Sample type'] = sample_type\n",
    "df['Donors'] = donors\n",
    "df['Batch'] = batch\n",
    "df['Target cell'] = target_cells\n",
    "\n",
    "numpyMatrix = np.asarray(df.as_matrix()).astype('float64')\n",
    "\n",
    "numpyMatrix_norm = normalize(numpyMatrix, axis=0)\n",
    "\n",
    "t = TSNE(n_components=2)\n",
    "tsne_proj = t.fit_transform(numpyMatrix_norm)\n",
    "print(tsne_proj, \"\\n\" + \"This matrix has the length of \", len(tsne_proj))\n",
    "\n",
    "isomap = Isomap(n_components=4)\n",
    "isomap_proj = isomap.fit_transform(numpyMatrix_norm)\n",
    "\n",
    "df['TNSE1'] = tsne_proj[:, 0]\n",
    "df['TNSE2'] = tsne_proj[:, 1]\n",
    "df['Isomap1'] = isomap_proj[:, 0]\n",
    "df['Isomap2'] = isomap_proj[:, 1]\n",
    "df['Isomap3'] = isomap_proj[:, 2]\n",
    "df['Isomap4'] = isomap_proj[:, 3]\n",
    "\n",
    "lle = LocallyLinearEmbedding(n_components=2)\n",
    "lle_proj = lle.fit_transform(numpyMatrix_norm)\n",
    "df['LLE1'] = lle_proj[:, 0]\n",
    "df['LLE2'] = lle_proj[:, 1]\n",
    "\n",
    "pca = PCA(n_components=4)\n",
    "pca_proj = pca.fit_transform(numpyMatrix_norm)\n",
    "df['PCA1'] = pca_proj[:, 0]\n",
    "df['PCA2'] = pca_proj[:, 1]\n",
    "df['PCA3'] = pca_proj[:, 2]\n",
    "df['PCA4'] = pca_proj[:, 3]\n",
    "\n",
    "mds = MDS(n_components=4)\n",
    "mds_proj = mds.fit_transform(numpyMatrix_norm)\n",
    "df['MDS1'] = mds_proj[:, 0]\n",
    "df['MDS2'] = mds_proj[:, 1]\n",
    "df['MDS3'] = mds_proj[:, 2]\n",
    "df['MDS4'] = mds_proj[:, 3]\n",
    "\n",
    "df.to_csv('C:/Users/wen.zhang/My Data/Luminex/dataframe_withTSNE.txt')"
   ]
  }
 ],
 "metadata": {
  "kernelspec": {
   "display_name": "Python 3",
   "language": "python",
   "name": "python3"
  },
  "language_info": {
   "codemirror_mode": {
    "name": "ipython",
    "version": 3
   },
   "file_extension": ".py",
   "mimetype": "text/x-python",
   "name": "python",
   "nbconvert_exporter": "python",
   "pygments_lexer": "ipython3",
   "version": "3.4.3"
  }
 },
 "nbformat": 4,
 "nbformat_minor": 0
}
