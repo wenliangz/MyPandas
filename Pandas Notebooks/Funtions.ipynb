{
 "cells": [
  {
   "cell_type": "markdown",
   "metadata": {},
   "source": [
    "#Notes for Pandas Functions\n"
   ]
  },
  {
   "cell_type": "code",
   "execution_count": 5,
   "metadata": {
    "collapsed": false
   },
   "outputs": [],
   "source": [
    "import pandas as pd\n",
    "import numpy as np\n",
    "import matplotlib.pyplot as plt\n",
    "randn = np.random.randn\n",
    "from pandas import *\n",
    "# Set some Pandas options\n",
    "pd.set_option('display.notebook_repr_html', False)\n",
    "pd.set_option('display.max_columns', 20)\n",
    "pd.set_option('display.max_rows', 25)"
   ]
  },
  {
   "cell_type": "code",
   "execution_count": 6,
   "metadata": {
    "collapsed": false
   },
   "outputs": [],
   "source": [
    "%matplotlib inline\n"
   ]
  },
  {
   "cell_type": "code",
   "execution_count": 7,
   "metadata": {
    "collapsed": false
   },
   "outputs": [
    {
     "data": {
      "text/plain": [
       "[<matplotlib.lines.Line2D at 0x87f0828>]"
      ]
     },
     "execution_count": 7,
     "metadata": {},
     "output_type": "execute_result"
    },
    {
     "data": {
      "image/png": "[encoded data removed]",
      "text/plain": [
       "<matplotlib.figure.Figure at 0x4a07390>"
      ]
     },
     "metadata": {},
     "output_type": "display_data"
    }
   ],
   "source": [
    "plt.plot(np.arange(5))"
   ]
  },
  {
   "cell_type": "code",
   "execution_count": 8,
   "metadata": {
    "collapsed": false
   },
   "outputs": [],
   "source": [
    "#define three main datatype for practise purpose\n",
    "index = pd.date_range('1/1/2000', periods=8)\n",
    "s = pd.Series(np.random.randn(5), index=['a', 'b', 'c', 'd', 'e'])\n",
    "df = pd.DataFrame(np.random.randn(8, 3), index=index,columns=['A', 'B', 'C'])\n",
    "wp = pd.Panel(np.random.randn(2, 5, 4), items=['Item1', 'Item2'],major_axis=pd.date_range('1/1/2000', periods=5),minor_axis=['A', 'B', 'C', 'D'])\n"
   ]
  },
  {
   "cell_type": "markdown",
   "metadata": {},
   "source": [
    "##1. Veiw data (Head and Tail)"
   ]
  },
  {
   "cell_type": "code",
   "execution_count": 9,
   "metadata": {
    "collapsed": false
   },
   "outputs": [
    {
     "data": {
      "text/plain": [
       "                   A         B         C\n",
       "2000-01-01 -1.650804 -0.787431 -0.292166\n",
       "2000-01-02 -1.686626 -0.294967  0.528312\n",
       "2000-01-03  0.161181  0.500234  1.278983\n",
       "2000-01-04  0.184699  0.799544 -0.037615\n",
       "2000-01-05 -1.244663 -1.197956 -1.606341\n",
       "2000-01-06  1.317863 -0.456770 -1.121211\n",
       "2000-01-07  0.455894  0.176352 -0.106461\n",
       "2000-01-08  0.607797 -1.147063  0.691502"
      ]
     },
     "execution_count": 9,
     "metadata": {},
     "output_type": "execute_result"
    }
   ],
   "source": [
    "df"
   ]
  },
  {
   "cell_type": "code",
   "execution_count": 10,
   "metadata": {
    "collapsed": false
   },
   "outputs": [],
   "source": [
    "long_series=Series(randn(1000))"
   ]
  },
  {
   "cell_type": "code",
   "execution_count": 11,
   "metadata": {
    "collapsed": false
   },
   "outputs": [
    {
     "data": {
      "text/plain": [
       "997    1.535327\n",
       "998    0.056163\n",
       "999    1.329997\n",
       "dtype: float64"
      ]
     },
     "execution_count": 11,
     "metadata": {},
     "output_type": "execute_result"
    }
   ],
   "source": [
    "long_series.tail(3)"
   ]
  },
  {
   "cell_type": "code",
   "execution_count": 12,
   "metadata": {
    "collapsed": false
   },
   "outputs": [
    {
     "data": {
      "text/plain": [
       "                   A         B         C\n",
       "2000-01-01 -1.650804 -0.787431 -0.292166\n",
       "2000-01-02 -1.686626 -0.294967  0.528312\n",
       "2000-01-03  0.161181  0.500234  1.278983"
      ]
     },
     "execution_count": 12,
     "metadata": {},
     "output_type": "execute_result"
    }
   ],
   "source": [
    "df[:3]"
   ]
  },
  {
   "cell_type": "markdown",
   "metadata": {
    "collapsed": true
   },
   "source": [
    "## 2.Attributes for Pandas objects:\n",
    "\n",
    "\t• Shape\n",
    "\t• Values\n",
    "\t• Axis labels: \n",
    "\t\t○ Series:  index\n",
    "\t\t○ Dataframe:  index(rows) and columns\n",
    "\t\t○ Panel:  items, major_axis, and minor_axis\n"
   ]
  },
  {
   "cell_type": "code",
   "execution_count": 13,
   "metadata": {
    "collapsed": false
   },
   "outputs": [
    {
     "data": {
      "text/plain": [
       "                   A         B         C\n",
       "2000-01-01 -1.650804 -0.787431 -0.292166\n",
       "2000-01-02 -1.686626 -0.294967  0.528312\n",
       "2000-01-03  0.161181  0.500234  1.278983\n",
       "2000-01-04  0.184699  0.799544 -0.037615\n",
       "2000-01-05 -1.244663 -1.197956 -1.606341\n",
       "2000-01-06  1.317863 -0.456770 -1.121211\n",
       "2000-01-07  0.455894  0.176352 -0.106461\n",
       "2000-01-08  0.607797 -1.147063  0.691502"
      ]
     },
     "execution_count": 13,
     "metadata": {},
     "output_type": "execute_result"
    }
   ],
   "source": [
    "df"
   ]
  },
  {
   "cell_type": "code",
   "execution_count": 14,
   "metadata": {
    "collapsed": false
   },
   "outputs": [
    {
     "data": {
      "text/plain": [
       "(8, 3)"
      ]
     },
     "execution_count": 14,
     "metadata": {},
     "output_type": "execute_result"
    }
   ],
   "source": [
    "df.shape"
   ]
  },
  {
   "cell_type": "code",
   "execution_count": 15,
   "metadata": {
    "collapsed": false
   },
   "outputs": [],
   "source": [
    "df.columns=[x.lower()for x in df.columns] "
   ]
  },
  {
   "cell_type": "code",
   "execution_count": 16,
   "metadata": {
    "collapsed": false
   },
   "outputs": [
    {
     "data": {
      "text/plain": [
       "                   a         b         c\n",
       "2000-01-01 -1.650804 -0.787431 -0.292166\n",
       "2000-01-02 -1.686626 -0.294967  0.528312\n",
       "2000-01-03  0.161181  0.500234  1.278983\n",
       "2000-01-04  0.184699  0.799544 -0.037615\n",
       "2000-01-05 -1.244663 -1.197956 -1.606341\n",
       "2000-01-06  1.317863 -0.456770 -1.121211\n",
       "2000-01-07  0.455894  0.176352 -0.106461\n",
       "2000-01-08  0.607797 -1.147063  0.691502"
      ]
     },
     "execution_count": 16,
     "metadata": {},
     "output_type": "execute_result"
    }
   ],
   "source": [
    "df"
   ]
  },
  {
   "cell_type": "code",
   "execution_count": 17,
   "metadata": {
    "collapsed": false
   },
   "outputs": [
    {
     "data": {
      "text/plain": [
       "array([-0.01739833,  0.62664556, -0.156368  , -0.89154192,  1.04059295])"
      ]
     },
     "execution_count": 17,
     "metadata": {},
     "output_type": "execute_result"
    }
   ],
   "source": [
    "s.values"
   ]
  },
  {
   "cell_type": "code",
   "execution_count": 18,
   "metadata": {
    "collapsed": false
   },
   "outputs": [
    {
     "data": {
      "text/plain": [
       "array([[-1.65080367, -0.787431  , -0.29216611],\n",
       "       [-1.68662631, -0.29496705,  0.52831174],\n",
       "       [ 0.16118122,  0.50023358,  1.27898303],\n",
       "       [ 0.18469869,  0.79954447, -0.0376154 ],\n",
       "       [-1.24466305, -1.19795569, -1.60634119],\n",
       "       [ 1.31786345, -0.45676953, -1.12121069],\n",
       "       [ 0.455894  ,  0.17635201, -0.10646117],\n",
       "       [ 0.60779746, -1.14706253,  0.69150193]])"
      ]
     },
     "execution_count": 18,
     "metadata": {},
     "output_type": "execute_result"
    }
   ],
   "source": [
    "df.values # df value contains list of rows in the format of numpy array"
   ]
  },
  {
   "cell_type": "code",
   "execution_count": 19,
   "metadata": {
    "collapsed": false
   },
   "outputs": [
    {
     "data": {
      "text/plain": [
       "array([[[ 1.29858801,  0.02121063, -1.00993319, -0.99636677],\n",
       "        [ 0.23384054, -1.50112456,  0.7488511 , -0.37108599],\n",
       "        [ 0.1321173 , -0.38479945,  0.49061217, -0.78108529],\n",
       "        [-0.70953394, -0.02161157, -0.66983691,  0.41714083],\n",
       "        [-0.78916603,  0.05645912,  0.05178076,  0.62805307]],\n",
       "\n",
       "       [[-0.56595815,  0.61148908, -1.09641477,  0.70818855],\n",
       "        [ 0.39758235, -0.91352988, -1.04591806,  0.03570979],\n",
       "        [-1.1799241 , -1.79122245, -1.70190583, -1.11084082],\n",
       "        [-1.2752149 , -1.08914709, -0.46070311,  2.70978549],\n",
       "        [ 0.64408569, -0.81495031, -1.42536278,  0.8219623 ]]])"
      ]
     },
     "execution_count": 19,
     "metadata": {},
     "output_type": "execute_result"
    }
   ],
   "source": [
    "wp.values"
   ]
  },
  {
   "cell_type": "markdown",
   "metadata": {},
   "source": [
    "##3. Binary operation"
   ]
  },
  {
   "cell_type": "markdown",
   "metadata": {},
   "source": [
    "DataFrame has the methods add, sub, mul, div and related functions radd, rsub, ... for carrying out binary operations. For broadcasting behavior, Series input is of primary interest. Using these functions, you can use to either match on the index or columns via the axis keyword:"
   ]
  },
  {
   "cell_type": "markdown",
   "metadata": {},
   "source": [
    "It specifies the axis along which the means are computed. By default axis=0. This is consistent with the numpy.mean usage when axis is specified explicitly (in numpy.mean, axis==None by default, which computes the mean value over the flattened array) , in which axis=0 along the rows (namely, index in pandas), and axis=1 along the columns.\n",
    "+------------+---------+--------+\n",
    "|            |  A      |  B     |\n",
    "+------------+---------+---------\n",
    "|      0     | 0.626386| 1.52325|----axis=1----->\n",
    "+------------+---------+--------+\n",
    "                |         |\n",
    "                | axis=0  |\n",
    "                ↓         ↓"
   ]
  },
  {
   "cell_type": "markdown",
   "metadata": {},
   "source": [
    "### 3.1 dataframe operation"
   ]
  },
  {
   "cell_type": "code",
   "execution_count": 20,
   "metadata": {
    "collapsed": false
   },
   "outputs": [],
   "source": [
    "df=DataFrame(\n",
    "    {'One':Series(randn(3),index=['a','b','c']),\n",
    "     'Two':Series(randn(4),index=['a','b','c','d']),\n",
    "     'Three':Series(randn(3),index=['b','c','d'])}\n",
    ")"
   ]
  },
  {
   "cell_type": "code",
   "execution_count": 21,
   "metadata": {
    "collapsed": false
   },
   "outputs": [
    {
     "data": {
      "text/plain": [
       "        One     Three       Two\n",
       "a -0.402323       NaN  0.201633\n",
       "b -0.495571 -0.461715  0.741734\n",
       "c -1.683790  0.993735  0.531996\n",
       "d       NaN -0.969579 -0.805263"
      ]
     },
     "execution_count": 21,
     "metadata": {},
     "output_type": "execute_result"
    }
   ],
   "source": [
    "df"
   ]
  },
  {
   "cell_type": "code",
   "execution_count": 22,
   "metadata": {
    "collapsed": false
   },
   "outputs": [
    {
     "data": {
      "text/plain": [
       "One     -0.495571\n",
       "Three   -0.461715\n",
       "Two      0.741734\n",
       "Name: b, dtype: float64"
      ]
     },
     "execution_count": 22,
     "metadata": {},
     "output_type": "execute_result"
    }
   ],
   "source": [
    "row=df.ix[1];row"
   ]
  },
  {
   "cell_type": "code",
   "execution_count": 23,
   "metadata": {
    "collapsed": false
   },
   "outputs": [
    {
     "data": {
      "text/plain": [
       "a    0.201633\n",
       "b    0.741734\n",
       "c    0.531996\n",
       "d   -0.805263\n",
       "Name: Two, dtype: float64"
      ]
     },
     "execution_count": 23,
     "metadata": {},
     "output_type": "execute_result"
    }
   ],
   "source": [
    "col=df['Two'];col"
   ]
  },
  {
   "cell_type": "code",
   "execution_count": 24,
   "metadata": {
    "collapsed": false
   },
   "outputs": [
    {
     "data": {
      "text/plain": [
       "        One     Three       Two\n",
       "a  0.093249       NaN -0.540101\n",
       "b  0.000000  0.000000  0.000000\n",
       "c -1.188219  1.455450 -0.209737\n",
       "d       NaN -0.507864 -1.546997"
      ]
     },
     "execution_count": 24,
     "metadata": {},
     "output_type": "execute_result"
    }
   ],
   "source": [
    "df.sub(row,axis='columns') # Each row substract value of the row defined above, which is the second row(row=df.ix[1])"
   ]
  },
  {
   "cell_type": "code",
   "execution_count": 25,
   "metadata": {
    "collapsed": false
   },
   "outputs": [
    {
     "data": {
      "text/plain": [
       "        One     Three       Two\n",
       "a  0.093249       NaN -0.540101\n",
       "b  0.000000  0.000000  0.000000\n",
       "c -1.188219  1.455450 -0.209737\n",
       "d       NaN -0.507864 -1.546997"
      ]
     },
     "execution_count": 25,
     "metadata": {},
     "output_type": "execute_result"
    }
   ],
   "source": [
    "df.sub(row,axis=1)"
   ]
  },
  {
   "cell_type": "code",
   "execution_count": 28,
   "metadata": {
    "collapsed": false
   },
   "outputs": [
    {
     "data": {
      "text/plain": [
       "        One     Three  Two\n",
       "a -0.603955       NaN    0\n",
       "b -1.237305 -1.203449    0\n",
       "c -2.215787  0.461739    0\n",
       "d       NaN -0.164316    0"
      ]
     },
     "execution_count": 28,
     "metadata": {},
     "output_type": "execute_result"
    }
   ],
   "source": [
    "df.sub(col,axis='index')"
   ]
  },
  {
   "cell_type": "code",
   "execution_count": 29,
   "metadata": {
    "collapsed": false
   },
   "outputs": [
    {
     "data": {
      "text/plain": [
       "        One     Three  Two\n",
       "a -0.603955       NaN    0\n",
       "b -1.237305 -1.203449    0\n",
       "c -2.215787  0.461739    0\n",
       "d       NaN -0.164316    0"
      ]
     },
     "execution_count": 29,
     "metadata": {},
     "output_type": "execute_result"
    }
   ],
   "source": [
    "df.sub(col,axis=0)"
   ]
  },
  {
   "cell_type": "markdown",
   "metadata": {},
   "source": [
    "Add multi-index for a dataframe from turples; operation on the broadcasting axis"
   ]
  },
  {
   "cell_type": "code",
   "execution_count": 30,
   "metadata": {
    "collapsed": false
   },
   "outputs": [
    {
     "data": {
      "text/plain": [
       "        One     Three       Two\n",
       "a -0.402323       NaN  0.201633\n",
       "b -0.495571 -0.461715  0.741734\n",
       "c -1.683790  0.993735  0.531996\n",
       "d       NaN -0.969579 -0.805263"
      ]
     },
     "execution_count": 30,
     "metadata": {},
     "output_type": "execute_result"
    }
   ],
   "source": [
    "dfmi=df.copy();dfmi"
   ]
  },
  {
   "cell_type": "code",
   "execution_count": 36,
   "metadata": {
    "collapsed": false
   },
   "outputs": [
    {
     "data": {
      "text/plain": [
       "                   One     Three       Two\n",
       "first second                              \n",
       "1     a      -0.402323       NaN  0.201633\n",
       "      b      -0.495571 -0.461715  0.741734\n",
       "2     b      -1.683790  0.993735  0.531996\n",
       "      a            NaN -0.969579 -0.805263"
      ]
     },
     "execution_count": 36,
     "metadata": {},
     "output_type": "execute_result"
    }
   ],
   "source": [
    "dfmi.index=MultiIndex.from_tuples([(1,'a'),(1,'b'),(2,'b'),(2,'a')],names=['first','second']);dfmi"
   ]
  },
  {
   "cell_type": "code",
   "execution_count": 37,
   "metadata": {
    "collapsed": false
   },
   "outputs": [
    {
     "data": {
      "text/plain": [
       "                   One     Three       Two\n",
       "first second                              \n",
       "1     a      -0.603955       NaN  0.000000\n",
       "      b      -1.237305 -1.203449  0.000000\n",
       "2     b      -2.425524  0.252001 -0.209737\n",
       "      a            NaN -1.171212 -1.006896"
      ]
     },
     "execution_count": 37,
     "metadata": {},
     "output_type": "execute_result"
    }
   ],
   "source": [
    "dfmi.sub(col, axis=0, level='second')  # note that there are matched indexes on the index level 'second'"
   ]
  },
  {
   "cell_type": "markdown",
   "metadata": {},
   "source": [
    "### 3.2 panel operation"
   ]
  },
  {
   "cell_type": "code",
   "execution_count": null,
   "metadata": {
    "collapsed": false
   },
   "outputs": [],
   "source": [
    "wp['Item1']"
   ]
  },
  {
   "cell_type": "code",
   "execution_count": null,
   "metadata": {
    "collapsed": false
   },
   "outputs": [],
   "source": [
    "major_mean=wp.mean(axis='major');major_mean"
   ]
  },
  {
   "cell_type": "code",
   "execution_count": null,
   "metadata": {
    "collapsed": false
   },
   "outputs": [],
   "source": [
    "minor_mean=wp.mean(axis='minor');minor_mean"
   ]
  },
  {
   "cell_type": "code",
   "execution_count": null,
   "metadata": {
    "collapsed": false
   },
   "outputs": [],
   "source": [
    "df"
   ]
  },
  {
   "cell_type": "markdown",
   "metadata": {},
   "source": [
    "### 3.3 Missing data and Operation with fill values"
   ]
  },
  {
   "cell_type": "code",
   "execution_count": 39,
   "metadata": {
    "collapsed": false
   },
   "outputs": [
    {
     "data": {
      "text/plain": [
       "        One     Three       Two\n",
       "a -0.402323       NaN  0.201633\n",
       "b -0.495571 -0.461715  0.741734\n",
       "c -1.683790  0.993735  0.531996\n",
       "d       NaN -0.969579 -0.805263"
      ]
     },
     "execution_count": 39,
     "metadata": {},
     "output_type": "execute_result"
    }
   ],
   "source": [
    "df"
   ]
  },
  {
   "cell_type": "code",
   "execution_count": 41,
   "metadata": {
    "collapsed": true
   },
   "outputs": [],
   "source": [
    "df2=DataFrame(\n",
    "    {'One':Series(randn(3),index=['a','b','c']),\n",
    "     'Two':Series(randn(4),index=['a','b','c','d']),\n",
    "     'Three':Series(randn(3),index=['b','c','d'])}\n",
    ")"
   ]
  },
  {
   "cell_type": "code",
   "execution_count": 42,
   "metadata": {
    "collapsed": false
   },
   "outputs": [
    {
     "data": {
      "text/plain": [
       "        One     Three       Two\n",
       "a -0.434909  1.000000 -0.087238\n",
       "b -0.530565 -1.037579  0.882841\n",
       "c -0.332613 -1.682802  0.761950\n",
       "d       NaN  0.315756  0.398778"
      ]
     },
     "execution_count": 42,
     "metadata": {},
     "output_type": "execute_result"
    }
   ],
   "source": [
    "df2.ix[0,'Three']=1.;df2"
   ]
  },
  {
   "cell_type": "code",
   "execution_count": 43,
   "metadata": {
    "collapsed": false
   },
   "outputs": [
    {
     "data": {
      "text/plain": [
       "        One     Three       Two\n",
       "a -0.837231       NaN  0.114395\n",
       "b -1.026136 -1.499294  1.624574\n",
       "c -2.016403 -0.689068  1.293946\n",
       "d       NaN -0.653823 -0.406485"
      ]
     },
     "execution_count": 43,
     "metadata": {},
     "output_type": "execute_result"
    }
   ],
   "source": [
    "df+df2"
   ]
  },
  {
   "cell_type": "code",
   "execution_count": 44,
   "metadata": {
    "collapsed": false
   },
   "outputs": [
    {
     "data": {
      "text/plain": [
       "        One     Three       Two\n",
       "a -0.837231  2.000000  0.114395\n",
       "b -1.026136 -1.499294  1.624574\n",
       "c -2.016403 -0.689068  1.293946\n",
       "d       NaN -0.653823 -0.406485"
      ]
     },
     "execution_count": 44,
     "metadata": {},
     "output_type": "execute_result"
    }
   ],
   "source": [
    "df.add(df2,fill_value=1)  #Treat NaN as 1 "
   ]
  },
  {
   "cell_type": "markdown",
   "metadata": {
    "collapsed": true
   },
   "source": [
    "### 3.3 Boolean operation"
   ]
  },
  {
   "cell_type": "markdown",
   "metadata": {},
   "source": [
    "Comparison using methods: eq, ne, lt, gt, le, and ge"
   ]
  },
  {
   "cell_type": "code",
   "execution_count": 45,
   "metadata": {
    "collapsed": false
   },
   "outputs": [
    {
     "data": {
      "text/plain": [
       "     One  Three    Two\n",
       "a   True  False   True\n",
       "b   True   True  False\n",
       "c  False   True  False\n",
       "d  False  False  False"
      ]
     },
     "execution_count": 45,
     "metadata": {},
     "output_type": "execute_result"
    }
   ],
   "source": [
    "df.gt(df2)"
   ]
  },
  {
   "cell_type": "markdown",
   "metadata": {},
   "source": [
    "summry boolean results: empty, any(), all(), and bool()"
   ]
  },
  {
   "cell_type": "code",
   "execution_count": 46,
   "metadata": {
    "collapsed": false
   },
   "outputs": [
    {
     "data": {
      "text/plain": [
       "One      False\n",
       "Three     True\n",
       "Two       True\n",
       "dtype: bool"
      ]
     },
     "execution_count": 46,
     "metadata": {},
     "output_type": "execute_result"
    }
   ],
   "source": [
    "(df>0).any()"
   ]
  },
  {
   "cell_type": "markdown",
   "metadata": {},
   "source": [
    "comare if objects are equivalent"
   ]
  },
  {
   "cell_type": "code",
   "execution_count": 48,
   "metadata": {
    "collapsed": false
   },
   "outputs": [
    {
     "data": {
      "text/plain": [
       "     One  Three   Two\n",
       "a   True  False  True\n",
       "b   True   True  True\n",
       "c   True   True  True\n",
       "d  False   True  True"
      ]
     },
     "execution_count": 48,
     "metadata": {},
     "output_type": "execute_result"
    }
   ],
   "source": [
    "df+df==df*2  # NaNs do not compare as equals(\"==\"), but ok with equal method"
   ]
  },
  {
   "cell_type": "code",
   "execution_count": 49,
   "metadata": {
    "collapsed": false
   },
   "outputs": [
    {
     "data": {
      "text/plain": [
       "True"
      ]
     },
     "execution_count": 49,
     "metadata": {},
     "output_type": "execute_result"
    }
   ],
   "source": [
    "(df+df).equals(df*2) "
   ]
  },
  {
   "cell_type": "markdown",
   "metadata": {},
   "source": [
    "###3.4 Combine overlapping data sets"
   ]
  },
  {
   "cell_type": "markdown",
   "metadata": {},
   "source": [
    "Combine_first: combine two DataFrame objects where missing values in one DataFrame are conditionally filled with like-labeled values from the other DataFrame."
   ]
  },
  {
   "cell_type": "code",
   "execution_count": 53,
   "metadata": {
    "collapsed": false
   },
   "outputs": [
    {
     "data": {
      "text/plain": [
       "    A   B\n",
       "0   1 NaN\n",
       "1 NaN   2\n",
       "2   3   3\n",
       "3   5 NaN\n",
       "4 NaN   6"
      ]
     },
     "execution_count": 53,
     "metadata": {},
     "output_type": "execute_result"
    }
   ],
   "source": [
    "df1 = DataFrame({'A' : [1., np.nan, 3., 5., np.nan],\n",
    "                 'B' : [np.nan, 2., 3., np.nan, 6.]});df1"
   ]
  },
  {
   "cell_type": "code",
   "execution_count": 54,
   "metadata": {
    "collapsed": false
   },
   "outputs": [
    {
     "data": {
      "text/plain": [
       "    A   B\n",
       "0   5 NaN\n",
       "1   2 NaN\n",
       "2   4   3\n",
       "3 NaN   4\n",
       "4   3   6\n",
       "5   7   8"
      ]
     },
     "execution_count": 54,
     "metadata": {},
     "output_type": "execute_result"
    }
   ],
   "source": [
    "df2 = DataFrame({'A' : [5., 2., 4., np.nan, 3., 7.],\n",
    "                 'B' : [np.nan, np.nan, 3., 4., 6., 8.]});df2"
   ]
  },
  {
   "cell_type": "code",
   "execution_count": 55,
   "metadata": {
    "collapsed": false
   },
   "outputs": [
    {
     "data": {
      "text/plain": [
       "   A   B\n",
       "0  1 NaN\n",
       "1  2   2\n",
       "2  3   3\n",
       "3  5   4\n",
       "4  3   6\n",
       "5  7   8"
      ]
     },
     "execution_count": 55,
     "metadata": {},
     "output_type": "execute_result"
    }
   ],
   "source": [
    "df1.combine_first(df2)"
   ]
  },
  {
   "cell_type": "markdown",
   "metadata": {},
   "source": [
    "Combine: General dataframe combine"
   ]
  },
  {
   "cell_type": "code",
   "execution_count": 66,
   "metadata": {
    "collapsed": false
   },
   "outputs": [],
   "source": [
    "combiner=lambda x,y: np.where(isnull(x),y,x)"
   ]
  },
  {
   "cell_type": "code",
   "execution_count": 67,
   "metadata": {
    "collapsed": false
   },
   "outputs": [
    {
     "data": {
      "text/plain": [
       "   A   B\n",
       "0  1 NaN\n",
       "1  2   2\n",
       "2  3   3\n",
       "3  5   4\n",
       "4  3   6\n",
       "5  7   8"
      ]
     },
     "execution_count": 67,
     "metadata": {},
     "output_type": "execute_result"
    }
   ],
   "source": [
    "df1.combine(df2,combiner)"
   ]
  },
  {
   "cell_type": "markdown",
   "metadata": {},
   "source": [
    "### 3.5 Descriptive statistics"
   ]
  },
  {
   "cell_type": "markdown",
   "metadata": {},
   "source": [
    "Most of descriptive statistics are aggregations: \n",
    "\n",
    "    Function\tDescription\n",
    "    count\tNumber of non-null observations\n",
    "    sum\tSum of values\n",
    "    mean\tMean of values\n",
    "    mad\tMean absolute deviation\n",
    "    median\tArithmetic median of values\n",
    "    min\tMinimum\n",
    "    max\tMaximum\n",
    "    mode\tMode\n",
    "    abs\tAbsolute Value\n",
    "    prod\tProduct of values\n",
    "    std\tUnbiased standard deviation\n",
    "    var\tUnbiased variance\n",
    "    sem\tUnbiased standard error of the mean\n",
    "    skew\tUnbiased skewness (3rd moment)\n",
    "    kurt\tUnbiased kurtosis (4th moment)\n",
    "    quantile\tSample quantile (value at %)\n",
    "    cumsum\tCumulative sum\n",
    "    cumprod\tCumulative product\n",
    "    cummax\tCumulative maximum\n",
    "    cummin\tCumulative minimum\n",
    "\n",
    "Axis argument:\n",
    "Series: no axis argument needed\n",
    "DataFrame: “index” (axis=0, default), “columns” (axis=1)\n",
    "Panel: “items” (axis=0), “major” (axis=1, default), “minor” (axis=2)"
   ]
  },
  {
   "cell_type": "code",
   "execution_count": 68,
   "metadata": {
    "collapsed": false
   },
   "outputs": [
    {
     "data": {
      "text/plain": [
       "        One     Three       Two\n",
       "a -0.402323       NaN  0.201633\n",
       "b -0.495571 -0.461715  0.741734\n",
       "c -1.683790  0.993735  0.531996\n",
       "d       NaN -0.969579 -0.805263"
      ]
     },
     "execution_count": 68,
     "metadata": {},
     "output_type": "execute_result"
    }
   ],
   "source": [
    "df"
   ]
  },
  {
   "cell_type": "code",
   "execution_count": 69,
   "metadata": {
    "collapsed": false
   },
   "outputs": [
    {
     "data": {
      "text/plain": [
       "One     -0.860561\n",
       "Three   -0.145853\n",
       "Two      0.167525\n",
       "dtype: float64"
      ]
     },
     "execution_count": 69,
     "metadata": {},
     "output_type": "execute_result"
    }
   ],
   "source": [
    "df.mean(0)"
   ]
  },
  {
   "cell_type": "code",
   "execution_count": 71,
   "metadata": {
    "collapsed": false
   },
   "outputs": [
    {
     "data": {
      "text/plain": [
       "One     -2.581684\n",
       "Three   -0.437559\n",
       "Two      0.670099\n",
       "dtype: float64"
      ]
     },
     "execution_count": 71,
     "metadata": {},
     "output_type": "execute_result"
    }
   ],
   "source": [
    "df.sum(0,skpna=False)"
   ]
  },
  {
   "cell_type": "markdown",
   "metadata": {},
   "source": [
    "#### Summerizing data: describe"
   ]
  },
  {
   "cell_type": "markdown",
   "metadata": {},
   "source": [
    "Computes a variety of summary statistics about a Series or the columns of a DataFrame (excluding NAs of course):"
   ]
  },
  {
   "cell_type": "code",
   "execution_count": 72,
   "metadata": {
    "collapsed": false
   },
   "outputs": [
    {
     "data": {
      "text/plain": [
       "              b\n",
       "count  4.000000\n",
       "mean   1.500000\n",
       "std    1.290994\n",
       "min    0.000000\n",
       "25%    0.750000\n",
       "50%    1.500000\n",
       "75%    2.250000\n",
       "max    3.000000"
      ]
     },
     "execution_count": 72,
     "metadata": {},
     "output_type": "execute_result"
    }
   ],
   "source": [
    "frame = DataFrame({'a': ['Yes', 'Yes', 'No', 'No'], 'b': range(4)})\n",
    "\n",
    "frame.describe()"
   ]
  },
  {
   "cell_type": "code",
   "execution_count": 73,
   "metadata": {
    "collapsed": false
   },
   "outputs": [
    {
     "data": {
      "text/plain": [
       "          a\n",
       "count     4\n",
       "unique    2\n",
       "top     Yes\n",
       "freq      2"
      ]
     },
     "execution_count": 73,
     "metadata": {},
     "output_type": "execute_result"
    }
   ],
   "source": [
    "frame.describe(include=['object'])"
   ]
  },
  {
   "cell_type": "markdown",
   "metadata": {},
   "source": [
    "#### Index of Min/Max Values"
   ]
  },
  {
   "cell_type": "code",
   "execution_count": 75,
   "metadata": {
    "collapsed": false
   },
   "outputs": [
    {
     "data": {
      "text/plain": [
       "          A         B         C\n",
       "0  0.709753 -0.495710 -0.657395\n",
       "1 -0.293620  1.191711 -2.042215\n",
       "2 -2.238395  0.346496 -1.090370\n",
       "3  1.091117  0.150216 -0.176570\n",
       "4 -0.429886  0.902103 -0.052309"
      ]
     },
     "execution_count": 75,
     "metadata": {},
     "output_type": "execute_result"
    }
   ],
   "source": [
    "df1 = DataFrame(randn(5,3), columns=['A','B','C']);df1"
   ]
  },
  {
   "cell_type": "code",
   "execution_count": 76,
   "metadata": {
    "collapsed": false
   },
   "outputs": [
    {
     "data": {
      "text/plain": [
       "A    2\n",
       "B    0\n",
       "C    1\n",
       "dtype: int64"
      ]
     },
     "execution_count": 76,
     "metadata": {},
     "output_type": "execute_result"
    }
   ],
   "source": [
    "df1.idxmin(axis=0)"
   ]
  },
  {
   "cell_type": "markdown",
   "metadata": {},
   "source": [
    "#### Value counts(histogramming)/Mode"
   ]
  },
  {
   "cell_type": "code",
   "execution_count": 79,
   "metadata": {
    "collapsed": false
   },
   "outputs": [
    {
     "data": {
      "text/plain": [
       "array([1, 5, 2, 3, 0, 6, 1, 4, 5, 6, 6, 1, 2, 4, 1, 2, 3, 2, 1, 0, 5, 1, 1,\n",
       "       2, 5, 4, 2, 2, 4, 6, 5, 2, 1, 3, 6, 4, 5, 1, 1, 3, 6, 1, 6, 2, 3, 5,\n",
       "       5, 6, 4, 0])"
      ]
     },
     "execution_count": 79,
     "metadata": {},
     "output_type": "execute_result"
    }
   ],
   "source": [
    "data=np.random.randint(0,7,size=50);data"
   ]
  },
  {
   "cell_type": "code",
   "execution_count": 81,
   "metadata": {
    "collapsed": true
   },
   "outputs": [],
   "source": [
    "s=Series(data)"
   ]
  },
  {
   "cell_type": "code",
   "execution_count": 82,
   "metadata": {
    "collapsed": false
   },
   "outputs": [
    {
     "data": {
      "text/plain": [
       "1    11\n",
       "2     9\n",
       "6     8\n",
       "5     8\n",
       "4     6\n",
       "3     5\n",
       "0     3\n",
       "dtype: int64"
      ]
     },
     "execution_count": 82,
     "metadata": {},
     "output_type": "execute_result"
    }
   ],
   "source": [
    "s.value_counts()"
   ]
  },
  {
   "cell_type": "code",
   "execution_count": 90,
   "metadata": {
    "collapsed": false
   },
   "outputs": [
    {
     "data": {
      "text/plain": [
       "(array([  3.,  11.,   0.,   9.,   0.,   5.,   6.,   0.,   8.,   8.]),\n",
       " array([ 0. ,  0.6,  1.2,  1.8,  2.4,  3. ,  3.6,  4.2,  4.8,  5.4,  6. ]),\n",
       " <a list of 10 Patch objects>)"
      ]
     },
     "execution_count": 90,
     "metadata": {},
     "output_type": "execute_result"
    },
    {
     "data": {
      "image/png": "[encoded data removed]",
      "text/plain": [
       "<matplotlib.figure.Figure at 0x8c8c438>"
      ]
     },
     "metadata": {},
     "output_type": "display_data"
    }
   ],
   "source": [
    "plt.hist(data)"
   ]
  },
  {
   "cell_type": "markdown",
   "metadata": {},
   "source": [
    "### 3.6 Function application: apply method"
   ]
  },
  {
   "cell_type": "markdown",
   "metadata": {},
   "source": [
    "Arbitrary functions can be applied along the axes of a DataFrame or Panel using the apply method, which, like the descriptive statistics methods, take an optional axis argument:"
   ]
  },
  {
   "cell_type": "code",
   "execution_count": 91,
   "metadata": {
    "collapsed": false,
    "scrolled": true
   },
   "outputs": [
    {
     "data": {
      "text/plain": [
       "a   -0.100345\n",
       "b   -0.071851\n",
       "c   -0.052686\n",
       "d   -0.887421\n",
       "dtype: float64"
      ]
     },
     "execution_count": 91,
     "metadata": {},
     "output_type": "execute_result"
    }
   ],
   "source": [
    "df.apply(np.mean, axis=1)"
   ]
  },
  {
   "cell_type": "code",
   "execution_count": 92,
   "metadata": {
    "collapsed": false
   },
   "outputs": [
    {
     "data": {
      "text/plain": [
       "One      1.281468\n",
       "Three    1.963314\n",
       "Two      1.546997\n",
       "dtype: float64"
      ]
     },
     "execution_count": 92,
     "metadata": {},
     "output_type": "execute_result"
    }
   ],
   "source": [
    "df.apply(lambda x:x.max()-x.min())"
   ]
  },
  {
   "cell_type": "code",
   "execution_count": 93,
   "metadata": {
    "collapsed": true
   },
   "outputs": [],
   "source": [
    "def subtract_and_divide(x, sub, divide=1):\n",
    "    return (x - sub) / divide"
   ]
  },
  {
   "cell_type": "code",
   "execution_count": 94,
   "metadata": {
    "collapsed": false
   },
   "outputs": [
    {
     "data": {
      "text/plain": [
       "        One     Three       Two\n",
       "a -0.402323       NaN  0.201633\n",
       "b -0.495571 -0.461715  0.741734\n",
       "c -1.683790  0.993735  0.531996\n",
       "d       NaN -0.969579 -0.805263"
      ]
     },
     "execution_count": 94,
     "metadata": {},
     "output_type": "execute_result"
    }
   ],
   "source": [
    "df"
   ]
  },
  {
   "cell_type": "code",
   "execution_count": 95,
   "metadata": {
    "collapsed": false
   },
   "outputs": [
    {
     "data": {
      "text/plain": [
       "        One     Three       Two\n",
       "a -1.800774       NaN -1.599456\n",
       "b -1.831857 -1.820572 -1.419422\n",
       "c -2.227930 -1.335422 -1.489335\n",
       "d       NaN -1.989860 -1.935088"
      ]
     },
     "execution_count": 95,
     "metadata": {},
     "output_type": "execute_result"
    }
   ],
   "source": [
    "df.apply(subtract_and_divide,args=(5,),divide=3)"
   ]
  },
  {
   "cell_type": "code",
   "execution_count": 96,
   "metadata": {
    "collapsed": false
   },
   "outputs": [
    {
     "data": {
      "text/plain": [
       "        One     Three       Two\n",
       "a -1.800774       NaN -1.599456\n",
       "b -1.831857 -1.820572 -1.419422\n",
       "c -2.227930 -1.335422 -1.489335\n",
       "d       NaN -1.989860 -1.935088"
      ]
     },
     "execution_count": 96,
     "metadata": {},
     "output_type": "execute_result"
    }
   ],
   "source": [
    "df.apply(subtract_and_divide,args=(5,3))"
   ]
  },
  {
   "cell_type": "code",
   "execution_count": 101,
   "metadata": {
    "collapsed": false
   },
   "outputs": [
    {
     "data": {
      "text/plain": [
       "        One     Three       Two\n",
       "a -1.800774       NaN -1.599456\n",
       "b -1.831857 -1.820572 -1.419422\n",
       "c -2.227930 -1.335422 -1.489335\n",
       "d       NaN -1.989860 -1.935088"
      ]
     },
     "execution_count": 101,
     "metadata": {},
     "output_type": "execute_result"
    }
   ],
   "source": [
    "df.apply(lambda x: subtract_and_divide(x,5,3))"
   ]
  },
  {
   "cell_type": "markdown",
   "metadata": {},
   "source": [
    "#### Apply elementwise python function: applymap and map"
   ]
  },
  {
   "cell_type": "code",
   "execution_count": 103,
   "metadata": {
    "collapsed": false
   },
   "outputs": [
    {
     "data": {
      "text/plain": [
       "        One     Three       Two\n",
       "a -0.402323       NaN  0.201633\n",
       "b -0.495571 -0.461715  0.741734\n",
       "c -1.683790  0.993735  0.531996\n",
       "d       NaN -0.969579 -0.805263"
      ]
     },
     "execution_count": 103,
     "metadata": {},
     "output_type": "execute_result"
    }
   ],
   "source": [
    "df"
   ]
  },
  {
   "cell_type": "code",
   "execution_count": 104,
   "metadata": {
    "collapsed": true
   },
   "outputs": [],
   "source": [
    "f=lambda x: len(str(x))"
   ]
  },
  {
   "cell_type": "code",
   "execution_count": 106,
   "metadata": {
    "collapsed": false
   },
   "outputs": [
    {
     "data": {
      "text/plain": [
       "a    15\n",
       "b    15\n",
       "c    14\n",
       "d     3\n",
       "Name: One, dtype: int64"
      ]
     },
     "execution_count": 106,
     "metadata": {},
     "output_type": "execute_result"
    }
   ],
   "source": [
    "df['One'].map(f)"
   ]
  },
  {
   "cell_type": "code",
   "execution_count": 107,
   "metadata": {
    "collapsed": false
   },
   "outputs": [
    {
     "data": {
      "text/plain": [
       "   One  Three  Two\n",
       "a   15      3   14\n",
       "b   15     15   14\n",
       "c   14     14   14\n",
       "d    3     15   15"
      ]
     },
     "execution_count": 107,
     "metadata": {},
     "output_type": "execute_result"
    }
   ],
   "source": [
    "df.applymap(f)"
   ]
  },
  {
   "cell_type": "markdown",
   "metadata": {},
   "source": [
    "### 3.7 Reindexing and altering labels"
   ]
  },
  {
   "cell_type": "markdown",
   "metadata": {},
   "source": [
    "reindex. This accomplishes several things:\n",
    "\n",
    "    Reorders the existing data to match a new set of labels\n",
    "    Inserts missing value (NA) markers in label locations where no data for that label existed\n",
    "    If specified, fill data for missing labels using logic (highly relevant to working with time series data)"
   ]
  },
  {
   "cell_type": "code",
   "execution_count": 109,
   "metadata": {
    "collapsed": false
   },
   "outputs": [
    {
     "data": {
      "text/plain": [
       "a   -0.350449\n",
       "b    0.790331\n",
       "c    0.344300\n",
       "d   -0.186831\n",
       "e   -1.057681\n",
       "dtype: float64"
      ]
     },
     "execution_count": 109,
     "metadata": {},
     "output_type": "execute_result"
    }
   ],
   "source": [
    "s=Series(randn(5),index=['a','b','c','d','e']);s"
   ]
  },
  {
   "cell_type": "code",
   "execution_count": 112,
   "metadata": {
    "collapsed": false
   },
   "outputs": [
    {
     "data": {
      "text/plain": [
       "e   -1.057681\n",
       "b    0.790331\n",
       "f         NaN\n",
       "d   -0.186831\n",
       "dtype: float64"
      ]
     },
     "execution_count": 112,
     "metadata": {},
     "output_type": "execute_result"
    }
   ],
   "source": [
    "s1=s.reindex(['e','b','f','d']);s1"
   ]
  },
  {
   "cell_type": "code",
   "execution_count": 113,
   "metadata": {
    "collapsed": false
   },
   "outputs": [
    {
     "data": {
      "text/plain": [
       "        One     Three       Two\n",
       "a -0.402323       NaN  0.201633\n",
       "b -0.495571 -0.461715  0.741734\n",
       "c -1.683790  0.993735  0.531996\n",
       "d       NaN -0.969579 -0.805263"
      ]
     },
     "execution_count": 113,
     "metadata": {},
     "output_type": "execute_result"
    }
   ],
   "source": [
    "df"
   ]
  },
  {
   "cell_type": "code",
   "execution_count": 115,
   "metadata": {
    "collapsed": false
   },
   "outputs": [
    {
     "data": {
      "text/plain": [
       "      Three       Two       One\n",
       "c  0.993735  0.531996 -1.683790\n",
       "f       NaN       NaN       NaN\n",
       "b -0.461715  0.741734 -0.495571"
      ]
     },
     "execution_count": 115,
     "metadata": {},
     "output_type": "execute_result"
    }
   ],
   "source": [
    "df.reindex(index=['c','f','b'],columns=['Three','Two','One'])"
   ]
  },
  {
   "cell_type": "code",
   "execution_count": 116,
   "metadata": {
    "collapsed": false
   },
   "outputs": [
    {
     "data": {
      "text/plain": [
       "    A   B\n",
       "0   5 NaN\n",
       "1   2 NaN\n",
       "2   4   3\n",
       "3 NaN   4\n",
       "4   3   6\n",
       "5   7   8"
      ]
     },
     "execution_count": 116,
     "metadata": {},
     "output_type": "execute_result"
    }
   ],
   "source": [
    "df2"
   ]
  },
  {
   "cell_type": "code",
   "execution_count": 118,
   "metadata": {
    "collapsed": false
   },
   "outputs": [
    {
     "data": {
      "text/plain": [
       "          A         B         C\n",
       "0  0.709753 -0.495710 -0.657395\n",
       "1 -0.293620  1.191711 -2.042215\n",
       "2 -2.238395  0.346496 -1.090370\n",
       "3  1.091117  0.150216 -0.176570\n",
       "4 -0.429886  0.902103 -0.052309"
      ]
     },
     "execution_count": 118,
     "metadata": {},
     "output_type": "execute_result"
    }
   ],
   "source": [
    "df1"
   ]
  },
  {
   "cell_type": "code",
   "execution_count": 121,
   "metadata": {
    "collapsed": false
   },
   "outputs": [
    {
     "data": {
      "text/plain": [
       "          A         B\n",
       "0  0.709753 -0.495710\n",
       "1 -0.293620  1.191711\n",
       "2 -2.238395  0.346496\n",
       "3  1.091117  0.150216\n",
       "4 -0.429886  0.902103\n",
       "5       NaN       NaN"
      ]
     },
     "execution_count": 121,
     "metadata": {},
     "output_type": "execute_result"
    }
   ],
   "source": [
    "df1.reindex_like(df2) #if the index is shared between objects, \n",
    "#\"reindex_like\" can reindex to align one object with another object"
   ]
  },
  {
   "cell_type": "markdown",
   "metadata": {},
   "source": [
    "#### Dropping labels by drop method: drop \n",
    "####Renameing/mapping labels by rename method: rename"
   ]
  },
  {
   "cell_type": "code",
   "execution_count": 134,
   "metadata": {
    "collapsed": false
   },
   "outputs": [
    {
     "data": {
      "text/plain": [
       "        One     Three       Two\n",
       "a -0.402323       NaN  0.201633\n",
       "b -0.495571 -0.461715  0.741734\n",
       "c -1.683790  0.993735  0.531996\n",
       "d       NaN -0.969579 -0.805263"
      ]
     },
     "execution_count": 134,
     "metadata": {},
     "output_type": "execute_result"
    }
   ],
   "source": [
    "df"
   ]
  },
  {
   "cell_type": "code",
   "execution_count": 135,
   "metadata": {
    "collapsed": false
   },
   "outputs": [
    {
     "data": {
      "text/plain": [
       "        One     Three       Two\n",
       "b -0.495571 -0.461715  0.741734\n",
       "c -1.683790  0.993735  0.531996"
      ]
     },
     "execution_count": 135,
     "metadata": {},
     "output_type": "execute_result"
    }
   ],
   "source": [
    "df.drop(['a','d'],axis=0)"
   ]
  },
  {
   "cell_type": "code",
   "execution_count": 136,
   "metadata": {
    "collapsed": false
   },
   "outputs": [
    {
     "data": {
      "text/plain": [
       "      Three       Two\n",
       "a       NaN  0.201633\n",
       "b -0.461715  0.741734\n",
       "c  0.993735  0.531996\n",
       "d -0.969579 -0.805263"
      ]
     },
     "execution_count": 136,
     "metadata": {},
     "output_type": "execute_result"
    }
   ],
   "source": [
    "df.drop(['One'],axis=1)"
   ]
  },
  {
   "cell_type": "markdown",
   "metadata": {},
   "source": [
    "If you pass a function, it must return a value when called with any of the labels (and must produce a set of unique values). But if you pass a dict or Series, it need only contain a subset of the labels as keys"
   ]
  },
  {
   "cell_type": "code",
   "execution_count": 139,
   "metadata": {
    "collapsed": false
   },
   "outputs": [
    {
     "data": {
      "text/plain": [
       "a    0.623407\n",
       "b   -0.670169\n",
       "c    0.437944\n",
       "d   -1.867359\n",
       "e   -0.383912\n",
       "dtype: float64"
      ]
     },
     "execution_count": 139,
     "metadata": {},
     "output_type": "execute_result"
    }
   ],
   "source": [
    "s"
   ]
  },
  {
   "cell_type": "code",
   "execution_count": 140,
   "metadata": {
    "collapsed": false
   },
   "outputs": [
    {
     "data": {
      "text/plain": [
       "A    0.623407\n",
       "B   -0.670169\n",
       "C    0.437944\n",
       "D   -1.867359\n",
       "E   -0.383912\n",
       "dtype: float64"
      ]
     },
     "execution_count": 140,
     "metadata": {},
     "output_type": "execute_result"
    }
   ],
   "source": [
    "s.rename(str.upper)"
   ]
  },
  {
   "cell_type": "code",
   "execution_count": 138,
   "metadata": {
    "collapsed": false
   },
   "outputs": [
    {
     "data": {
      "text/plain": [
       "             foo     Three       bar\n",
       "apple  -0.402323       NaN  0.201633\n",
       "banana -0.495571 -0.461715  0.741734\n",
       "c      -1.683790  0.993735  0.531996\n",
       "duria        NaN -0.969579 -0.805263"
      ]
     },
     "execution_count": 138,
     "metadata": {},
     "output_type": "execute_result"
    }
   ],
   "source": [
    "df.rename(columns={'One':'foo','Two':'bar'},\n",
    "         index={'a':'apple','b':'banana','d':'duria'})"
   ]
  },
  {
   "cell_type": "markdown",
   "metadata": {},
   "source": [
    "### 3.8 Aligning objects with each other: Align"
   ]
  },
  {
   "cell_type": "markdown",
   "metadata": {},
   "source": [
    "The align method is the fastest way to simultaneously align two objects. It supports a join argument (related to joining and merging):\n",
    "\n",
    "join='outer': take the union of the indexes (default)\n",
    "join='left': use the calling object’s index\n",
    "join='right': use the passed object’s index\n",
    "join='inner': intersect the indexes\n",
    "\n",
    "It returns a tuple with both of the reindexed Series:"
   ]
  },
  {
   "cell_type": "code",
   "execution_count": 123,
   "metadata": {
    "collapsed": true
   },
   "outputs": [],
   "source": [
    "s = Series(randn(5), index=['a', 'b', 'c', 'd', 'e'])"
   ]
  },
  {
   "cell_type": "code",
   "execution_count": 125,
   "metadata": {
    "collapsed": false
   },
   "outputs": [
    {
     "data": {
      "text/plain": [
       "a    0.623407\n",
       "b   -0.670169\n",
       "c    0.437944\n",
       "d   -1.867359\n",
       "dtype: float64"
      ]
     },
     "execution_count": 125,
     "metadata": {},
     "output_type": "execute_result"
    }
   ],
   "source": [
    "s1=s[:4];s1"
   ]
  },
  {
   "cell_type": "code",
   "execution_count": 127,
   "metadata": {
    "collapsed": false
   },
   "outputs": [
    {
     "data": {
      "text/plain": [
       "b   -0.670169\n",
       "c    0.437944\n",
       "d   -1.867359\n",
       "e   -0.383912\n",
       "dtype: float64"
      ]
     },
     "execution_count": 127,
     "metadata": {},
     "output_type": "execute_result"
    }
   ],
   "source": [
    "s2=s[1:];s2"
   ]
  },
  {
   "cell_type": "code",
   "execution_count": 128,
   "metadata": {
    "collapsed": false
   },
   "outputs": [
    {
     "data": {
      "text/plain": [
       "(a    0.623407\n",
       " b   -0.670169\n",
       " c    0.437944\n",
       " d   -1.867359\n",
       " e         NaN\n",
       " dtype: float64, a         NaN\n",
       " b   -0.670169\n",
       " c    0.437944\n",
       " d   -1.867359\n",
       " e   -0.383912\n",
       " dtype: float64)"
      ]
     },
     "execution_count": 128,
     "metadata": {},
     "output_type": "execute_result"
    }
   ],
   "source": [
    "s1.align(s2)"
   ]
  },
  {
   "cell_type": "code",
   "execution_count": 129,
   "metadata": {
    "collapsed": false
   },
   "outputs": [
    {
     "data": {
      "text/plain": [
       "(b   -0.670169\n",
       " c    0.437944\n",
       " d   -1.867359\n",
       " dtype: float64, b   -0.670169\n",
       " c    0.437944\n",
       " d   -1.867359\n",
       " dtype: float64)"
      ]
     },
     "execution_count": 129,
     "metadata": {},
     "output_type": "execute_result"
    }
   ],
   "source": [
    "s1.align(s2,join='inner')"
   ]
  },
  {
   "cell_type": "code",
   "execution_count": 133,
   "metadata": {
    "collapsed": false
   },
   "outputs": [
    {
     "data": {
      "text/plain": [
       "(Empty DataFrame\n",
       " Columns: []\n",
       " Index: [], Empty DataFrame\n",
       " Columns: []\n",
       " Index: [])"
      ]
     },
     "execution_count": 133,
     "metadata": {},
     "output_type": "execute_result"
    }
   ],
   "source": [
    "df.align(df2,join='inner')"
   ]
  },
  {
   "cell_type": "markdown",
   "metadata": {},
   "source": [
    "### 3.9 Iteration"
   ]
  },
  {
   "cell_type": "markdown",
   "metadata": {},
   "source": [
    " iterating over the “keys” of the objects:\n",
    "    .Series: values\n",
    "    .DataFrame: column labels\n",
    "    .Panel: item labels"
   ]
  },
  {
   "cell_type": "markdown",
   "metadata": {},
   "source": [
    "#### iteritems: iterates through key-value pairs:\n",
    "    Series: (index, scalar value) pairs\n",
    "    DataFrame: (column, Series) pairs\n",
    "    Panel: (item, DataFrame) pairs"
   ]
  },
  {
   "cell_type": "code",
   "execution_count": 142,
   "metadata": {
    "collapsed": false
   },
   "outputs": [
    {
     "name": "stdout",
     "output_type": "stream",
     "text": [
      "Item1\n",
      "                   A         B         C         D\n",
      "2000-01-01  1.298588  0.021211 -1.009933 -0.996367\n",
      "2000-01-02  0.233841 -1.501125  0.748851 -0.371086\n",
      "2000-01-03  0.132117 -0.384799  0.490612 -0.781085\n",
      "2000-01-04 -0.709534 -0.021612 -0.669837  0.417141\n",
      "2000-01-05 -0.789166  0.056459  0.051781  0.628053\n",
      "Item2\n",
      "                   A         B         C         D\n",
      "2000-01-01 -0.565958  0.611489 -1.096415  0.708189\n",
      "2000-01-02  0.397582 -0.913530 -1.045918  0.035710\n",
      "2000-01-03 -1.179924 -1.791222 -1.701906 -1.110841\n",
      "2000-01-04 -1.275215 -1.089147 -0.460703  2.709785\n",
      "2000-01-05  0.644086 -0.814950 -1.425363  0.821962\n"
     ]
    }
   ],
   "source": [
    "for item, frame in wp.iteritems():\n",
    "    print(item)\n",
    "    print(frame)"
   ]
  },
  {
   "cell_type": "markdown",
   "metadata": {},
   "source": [
    "#### iterrows: returns an iterator yielding each index value along with a Series containing the data in each row; this also provide a way to transpose the dataframe"
   ]
  },
  {
   "cell_type": "code",
   "execution_count": 143,
   "metadata": {
    "collapsed": false
   },
   "outputs": [
    {
     "name": "stdout",
     "output_type": "stream",
     "text": [
      "0\n",
      "A     5\n",
      "B   NaN\n",
      "Name: 0, dtype: float64\n",
      "1\n",
      "A     2\n",
      "B   NaN\n",
      "Name: 1, dtype: float64\n",
      "2\n",
      "A    4\n",
      "B    3\n",
      "Name: 2, dtype: float64\n",
      "3\n",
      "A   NaN\n",
      "B     4\n",
      "Name: 3, dtype: float64\n",
      "4\n",
      "A    3\n",
      "B    6\n",
      "Name: 4, dtype: float64\n",
      "5\n",
      "A    7\n",
      "B    8\n",
      "Name: 5, dtype: float64\n"
     ]
    }
   ],
   "source": [
    "for row_index, row in df2.iterrows():\n",
    "    print('%s\\n%s' % (row_index, row))"
   ]
  },
  {
   "cell_type": "code",
   "execution_count": 150,
   "metadata": {
    "collapsed": false
   },
   "outputs": [
    {
     "data": {
      "text/plain": [
       "   x  y\n",
       "0  1  4\n",
       "1  2  5\n",
       "2  3  6"
      ]
     },
     "execution_count": 150,
     "metadata": {},
     "output_type": "execute_result"
    }
   ],
   "source": [
    "df2 = DataFrame({'x': [1, 2, 3], 'y': [4, 5, 6]});df2"
   ]
  },
  {
   "cell_type": "code",
   "execution_count": 152,
   "metadata": {
    "collapsed": false
   },
   "outputs": [
    {
     "data": {
      "text/plain": [
       "   0  1  2\n",
       "x  1  2  3\n",
       "y  4  5  6"
      ]
     },
     "execution_count": 152,
     "metadata": {},
     "output_type": "execute_result"
    }
   ],
   "source": [
    "df2_t=DataFrame(dict((idx,values) for idx, values in df2.iterrows()));df2_t"
   ]
  },
  {
   "cell_type": "code",
   "execution_count": 149,
   "metadata": {
    "collapsed": false
   },
   "outputs": [
    {
     "data": {
      "text/plain": [
       "   0  1  2\n",
       "x  1  2  3\n",
       "y  4  5  6"
      ]
     },
     "execution_count": 149,
     "metadata": {},
     "output_type": "execute_result"
    }
   ],
   "source": [
    "df2.T"
   ]
  },
  {
   "cell_type": "markdown",
   "metadata": {},
   "source": [
    "#### itertuples: This method will return an iterator yielding a tuple for each row in the DataFrame. The first element of the tuple will be the row’s corresponding index value, while the remaining values are the row values proper."
   ]
  },
  {
   "cell_type": "code",
   "execution_count": 153,
   "metadata": {
    "collapsed": false
   },
   "outputs": [
    {
     "name": "stdout",
     "output_type": "stream",
     "text": [
      "(0, 1, 4)\n",
      "(1, 2, 5)\n",
      "(2, 3, 6)\n"
     ]
    }
   ],
   "source": [
    "for r in df2.itertuples():\n",
    "    print(r)"
   ]
  },
  {
   "cell_type": "markdown",
   "metadata": {},
   "source": [
    "### 3.10 Sorting by index and value: Sort and Oder"
   ]
  },
  {
   "cell_type": "code",
   "execution_count": 154,
   "metadata": {
    "collapsed": false
   },
   "outputs": [
    {
     "data": {
      "text/plain": [
       "        One     Three       Two\n",
       "a -0.402323       NaN  0.201633\n",
       "b -0.495571 -0.461715  0.741734\n",
       "c -1.683790  0.993735  0.531996\n",
       "d       NaN -0.969579 -0.805263"
      ]
     },
     "execution_count": 154,
     "metadata": {},
     "output_type": "execute_result"
    }
   ],
   "source": [
    "df"
   ]
  },
  {
   "cell_type": "code",
   "execution_count": 155,
   "metadata": {
    "collapsed": false
   },
   "outputs": [
    {
     "data": {
      "text/plain": [
       "        One     Three       Two\n",
       "a -0.402323       NaN  0.201633\n",
       "d       NaN -0.969579 -0.805263\n",
       "c -1.683790  0.993735  0.531996\n",
       "b -0.495571 -0.461715  0.741734"
      ]
     },
     "execution_count": 155,
     "metadata": {},
     "output_type": "execute_result"
    }
   ],
   "source": [
    "unsorted_df=df.reindex(index=['a','d','c','b']);unsorted_df"
   ]
  },
  {
   "cell_type": "code",
   "execution_count": 156,
   "metadata": {
    "collapsed": false
   },
   "outputs": [
    {
     "data": {
      "text/plain": [
       "        One     Three       Two\n",
       "a -0.402323       NaN  0.201633\n",
       "b -0.495571 -0.461715  0.741734\n",
       "c -1.683790  0.993735  0.531996\n",
       "d       NaN -0.969579 -0.805263"
      ]
     },
     "execution_count": 156,
     "metadata": {},
     "output_type": "execute_result"
    }
   ],
   "source": [
    "unsorted_df.sort_index()"
   ]
  },
  {
   "cell_type": "code",
   "execution_count": 157,
   "metadata": {
    "collapsed": false
   },
   "outputs": [
    {
     "data": {
      "text/plain": [
       "        One     Three       Two\n",
       "a -0.402323       NaN  0.201633\n",
       "d       NaN -0.969579 -0.805263\n",
       "c -1.683790  0.993735  0.531996\n",
       "b -0.495571 -0.461715  0.741734"
      ]
     },
     "execution_count": 157,
     "metadata": {},
     "output_type": "execute_result"
    }
   ],
   "source": [
    "unsorted_df.sort_index(axis=1)"
   ]
  },
  {
   "cell_type": "markdown",
   "metadata": {},
   "source": [
    "##### DataFrame.sort_index can accept an optional by argument for axis=0"
   ]
  },
  {
   "cell_type": "code",
   "execution_count": 159,
   "metadata": {
    "collapsed": false
   },
   "outputs": [
    {
     "data": {
      "text/plain": [
       "   one  three  two\n",
       "0    2      5    1\n",
       "2    1      3    2\n",
       "1    1      4    3\n",
       "3    1      2    4"
      ]
     },
     "execution_count": 159,
     "metadata": {},
     "output_type": "execute_result"
    }
   ],
   "source": [
    "df1 = DataFrame({'one':[2,1,1,1],'two':[1,3,2,4],'three':[5,4,3,2]})\n",
    "\n",
    "df1.sort_index(by='two')"
   ]
  },
  {
   "cell_type": "markdown",
   "metadata": {},
   "source": [
    "##### sorting by a multi-index column"
   ]
  },
  {
   "cell_type": "code",
   "execution_count": 166,
   "metadata": {
    "collapsed": false
   },
   "outputs": [
    {
     "data": {
      "text/plain": [
       "    a         b\n",
       "  one two three\n",
       "3   1   2     4\n",
       "2   1   3     2\n",
       "1   1   4     3\n",
       "0   2   5     1"
      ]
     },
     "execution_count": 166,
     "metadata": {},
     "output_type": "execute_result"
    }
   ],
   "source": [
    "df1.columns = MultiIndex.from_tuples([('a','one'),('a','two'),('b','three')])\n",
    "\n",
    "df1.sort_index(by=('a','two'))"
   ]
  },
  {
   "cell_type": "markdown",
   "metadata": {},
   "source": [
    "##### sorts by value, with special treatment of NA values via the na_position argument:"
   ]
  },
  {
   "cell_type": "code",
   "execution_count": 160,
   "metadata": {
    "collapsed": false
   },
   "outputs": [
    {
     "data": {
      "text/plain": [
       "a    0.623407\n",
       "b   -0.670169\n",
       "c    0.437944\n",
       "d   -1.867359\n",
       "e   -0.383912\n",
       "dtype: float64"
      ]
     },
     "execution_count": 160,
     "metadata": {},
     "output_type": "execute_result"
    }
   ],
   "source": [
    "s"
   ]
  },
  {
   "cell_type": "code",
   "execution_count": 162,
   "metadata": {
    "collapsed": false
   },
   "outputs": [
    {
     "data": {
      "text/plain": [
       "a    0.623407\n",
       "b   -0.670169\n",
       "c         NaN\n",
       "d   -1.867359\n",
       "e   -0.383912\n",
       "dtype: float64"
      ]
     },
     "execution_count": 162,
     "metadata": {},
     "output_type": "execute_result"
    }
   ],
   "source": [
    "s[2]=np.nan;s"
   ]
  },
  {
   "cell_type": "code",
   "execution_count": 164,
   "metadata": {
    "collapsed": false
   },
   "outputs": [
    {
     "data": {
      "text/plain": [
       "c         NaN\n",
       "d   -1.867359\n",
       "b   -0.670169\n",
       "e   -0.383912\n",
       "a    0.623407\n",
       "dtype: float64"
      ]
     },
     "execution_count": 164,
     "metadata": {},
     "output_type": "execute_result"
    }
   ],
   "source": [
    "s.order(na_position='first')"
   ]
  },
  {
   "cell_type": "markdown",
   "metadata": {},
   "source": [
    "##### smallest/largest values: nsmallerst and nlargets"
   ]
  },
  {
   "cell_type": "code",
   "execution_count": 165,
   "metadata": {
    "collapsed": false
   },
   "outputs": [
    {
     "data": {
      "text/plain": [
       "d   -1.867359\n",
       "b   -0.670169\n",
       "e   -0.383912\n",
       "dtype: float64"
      ]
     },
     "execution_count": 165,
     "metadata": {},
     "output_type": "execute_result"
    }
   ],
   "source": [
    "s.nsmallest(3)"
   ]
  },
  {
   "cell_type": "markdown",
   "metadata": {},
   "source": [
    "### 3.11 dtypes"
   ]
  },
  {
   "cell_type": "markdown",
   "metadata": {},
   "source": [
    "The main types stored in pandas objects are float, int, bool, datetime64[ns], timedelta[ns], and object. In addition these dtypes have item sizes, e.g. int64 and int32.By default integer types are int64 and float types are float64, REGARDLESS of platform (32-bit or 64-bit). "
   ]
  },
  {
   "cell_type": "markdown",
   "metadata": {},
   "source": [
    "#### If a pandas object contains data multiple dtypes IN A SINGLE COLUMN, the dtype of the column will be chosen to accommodate all of the data types (object is the most general)"
   ]
  },
  {
   "cell_type": "code",
   "execution_count": 167,
   "metadata": {
    "collapsed": false
   },
   "outputs": [
    {
     "data": {
      "text/plain": [
       "0    1\n",
       "1    2\n",
       "2    3\n",
       "3    4\n",
       "4    5\n",
       "5    6\n",
       "dtype: float64"
      ]
     },
     "execution_count": 167,
     "metadata": {},
     "output_type": "execute_result"
    }
   ],
   "source": [
    "Series([1, 2, 3, 4, 5, 6.])"
   ]
  },
  {
   "cell_type": "markdown",
   "metadata": {},
   "source": [
    "#### upcasting\n",
    "\n",
    "Types can potentially be upcasted when combined with other types, meaning they are promoted from the current type (say int to float)"
   ]
  },
  {
   "cell_type": "code",
   "execution_count": 173,
   "metadata": {
    "collapsed": false
   },
   "outputs": [
    {
     "data": {
      "text/plain": [
       "        One     Three       Two\n",
       "a -0.402323  0.000000  0.201633\n",
       "b -0.495571 -0.461715  0.741734\n",
       "c -1.683790  0.993735  0.531996\n",
       "d  0.000000 -0.969579 -0.805263"
      ]
     },
     "execution_count": 173,
     "metadata": {},
     "output_type": "execute_result"
    }
   ],
   "source": [
    "df3 = df.reindex_like(df).fillna(value=0.0);df3"
   ]
  },
  {
   "cell_type": "code",
   "execution_count": 174,
   "metadata": {
    "collapsed": false
   },
   "outputs": [
    {
     "data": {
      "text/plain": [
       "One      float64\n",
       "Three    float64\n",
       "Two      float64\n",
       "dtype: object"
      ]
     },
     "execution_count": 174,
     "metadata": {},
     "output_type": "execute_result"
    }
   ],
   "source": [
    "df3.dtypes"
   ]
  },
  {
   "cell_type": "markdown",
   "metadata": {},
   "source": [
    "#### astype\n",
    "You can use the astype method to explicitly convert dtypes from one to another"
   ]
  },
  {
   "cell_type": "code",
   "execution_count": 175,
   "metadata": {
    "collapsed": false
   },
   "outputs": [
    {
     "data": {
      "text/plain": [
       "        One     Three       Two\n",
       "a -0.402323  0.000000  0.201633\n",
       "b -0.495571 -0.461715  0.741734\n",
       "c -1.683790  0.993735  0.531996\n",
       "d  0.000000 -0.969579 -0.805263"
      ]
     },
     "execution_count": 175,
     "metadata": {},
     "output_type": "execute_result"
    }
   ],
   "source": [
    "df3"
   ]
  },
  {
   "cell_type": "code",
   "execution_count": 176,
   "metadata": {
    "collapsed": false
   },
   "outputs": [
    {
     "data": {
      "text/plain": [
       "One      float64\n",
       "Three    float64\n",
       "Two      float64\n",
       "dtype: object"
      ]
     },
     "execution_count": 176,
     "metadata": {},
     "output_type": "execute_result"
    }
   ],
   "source": [
    "df3.dtypes"
   ]
  },
  {
   "cell_type": "code",
   "execution_count": 182,
   "metadata": {
    "collapsed": false
   },
   "outputs": [
    {
     "data": {
      "text/plain": [
       "One      float32\n",
       "Three    float32\n",
       "Two      float32\n",
       "dtype: object"
      ]
     },
     "execution_count": 182,
     "metadata": {},
     "output_type": "execute_result"
    }
   ],
   "source": [
    "df3.astype('float32').dtypes"
   ]
  }
 ],
 "metadata": {
  "celltoolbar": "Raw Cell Format",
  "kernelspec": {
   "display_name": "Python 3",
   "language": "python",
   "name": "python3"
  },
  "language_info": {
   "codemirror_mode": {
    "name": "ipython",
    "version": 3
   },
   "file_extension": ".py",
   "mimetype": "text/x-python",
   "name": "python",
   "nbconvert_exporter": "python",
   "pygments_lexer": "ipython3",
   "version": "3.4.3"
  }
 },
 "nbformat": 4,
 "nbformat_minor": 0
}
