{
 "cells": [
  {
   "cell_type": "markdown",
   "metadata": {},
   "source": [
    "#Luminex tSNE"
   ]
  },
  {
   "cell_type": "code",
   "execution_count": 11,
   "metadata": {
    "collapsed": false
   },
   "outputs": [],
   "source": [
    "import pandas as pd\n",
    "import numpy as np\n",
    "import matplotlib.pyplot as plt\n",
    "from pandas import *\n",
    "from numpy import nan\n",
    "# Set some Pandas options\n",
    "pd.set_option('display.notebook_repr_html', False)\n",
    "pd.set_option('display.max_columns', 20)\n",
    "pd.set_option('display.max_rows', 25)\n",
    "\n",
    "from sklearn.manifold import *\n",
    "from sklearn.decomposition import PCA\n",
    "from sklearn.preprocessing import normalize\n",
    "import scipy.io\n",
    "# import bokeh.plotting as bk\n",
    "from sklearn import datasets\n",
    "%matplotlib inline"
   ]
  },
  {
   "cell_type": "markdown",
   "metadata": {},
   "source": [
    "##Read data"
   ]
  },
  {
   "cell_type": "code",
   "execution_count": 10,
   "metadata": {
    "collapsed": false
   },
   "outputs": [
    {
     "name": "stdout",
     "output_type": "stream",
     "text": [
      "355 451\n"
     ]
    },
    {
     "data": {
      "text/plain": [
       "                        Flt-3L       GM-CSF\n",
       "Sample                                     \n",
       "800290 177 NALM-6   19.9845625  3070.879388\n",
       "800290 177 NALM-6  21.28585746  3403.416814\n",
       "Patient #1 177     23.81679958  5611.813518\n",
       "Patient #1 177     18.31918275  4633.860559\n",
       "177 Alone          12.22997435  114.8199577\n",
       "177 Alone          12.98990876  125.9487591\n",
       "800499 177 NALM-6  16.60455599  2944.667684\n",
       "800499 177 NALM-6  20.63844401  2508.872863\n",
       "800290 177 MEC-1   28.64409957  7370.844624\n",
       "800290 177 MEC-1   25.66029502  7332.026944\n",
       "Patient #1 180     23.81679958  12880.24785\n",
       "Patient #1 180     22.87811327  13539.96695\n",
       "...                        ...          ...\n",
       "800499 180 Alone   15.90307684  284.0257565\n",
       "800499 180 Alone   15.19170049  295.1175482\n",
       "800499 181 MEC-1   16.60455599  489.8479109\n",
       "800499 181 MEC-1   15.90307684  529.6189942\n",
       "800290 181 K562     14.4696591  117.1133714\n",
       "800290 181 K562    15.19170049   135.065361\n",
       "PBMC 181           15.90307684  28.08707519\n",
       "PBMC 181           16.60455599  28.93184113\n",
       "800499 181 Alone   10.66279004  34.17316686\n",
       "800499 181 Alone   12.98990876  40.62237557\n",
       "800499 181 K562    12.22997435  114.3295191\n",
       "800499 181 K562    15.19170049  133.1319282\n",
       "\n",
       "[72 rows x 2 columns]"
      ]
     },
     "execution_count": 10,
     "metadata": {},
     "output_type": "execute_result"
    }
   ],
   "source": [
    "digits = datasets.load_digits()\n",
    "\n",
    "datafile = 'C:/Users/wen.zhang/My Data/Luminex/TC15001 Luminex Setup JG 04Feb2015.csv'\n",
    "\n",
    "with open(datafile) as f:\n",
    "    for index, line in enumerate(f):\n",
    "        if line.strip().split(',')[0] == 'DataType:' and line.strip().split(',')[1] == 'Result':\n",
    "            data_start = index + 1\n",
    "        elif line.strip().split(',')[0] == 'DataType:' and line.strip().split(',')[1] == 'Range':\n",
    "            data_end = index - 2\n",
    "print(data_start, data_end)\n",
    "\n",
    "df = pd.read_csv(datafile, nrows=data_end - data_start, skiprows=data_start,\n",
    "                 usecols=[1, 2, 3, 4, 5, 6, 7, 8, 9, 10, 11, 12, 13, 14, 15], index_col=[0])\n",
    "\n",
    "df.replace([r'^<', np.nan, r'^>'], [0., 0., 10000.], regex=True, inplace=True)\n",
    "\n",
    "#df[[0,1]]\n",
    "df = df.ix[24:, :]  # take off the standard and blank samples\n",
    "df[[0,1]]"
   ]
  },
  {
   "cell_type": "markdown",
   "metadata": {},
   "source": [
    "## Reformat data"
   ]
  },
  {
   "cell_type": "code",
   "execution_count": null,
   "metadata": {
    "collapsed": true
   },
   "outputs": [],
   "source": [
    "# Split sample names into different columns\n",
    "donors = []\n",
    "batch = []\n",
    "target_cells = []\n",
    "sample_type = []\n",
    "\n",
    "for row in df.iterrows():\n",
    "    raw_label = row[0]\n",
    "    split_label = raw_label.split(\" \")\n",
    "    if \"Patient\" in raw_label:\n",
    "        donors.append(split_label[0] + \" \" + split_label[1])\n",
    "        batch.append(split_label[2])\n",
    "        target_cells.append(\"None\")\n",
    "        sample_type.append(\"T-cells only\")\n",
    "        # to be continued\n",
    "\n",
    "df['Sample type'] = sample_type\n",
    "df['Donors'] = donors\n",
    "df['Batch'] = batch\n",
    "df['Target cell'] = target_cells"
   ]
  },
  {
   "cell_type": "code",
   "execution_count": 40,
   "metadata": {
    "collapsed": false
   },
   "outputs": [],
   "source": [
    "#df.to_csv('C:/Users/wen.zhang/My Data/Luminex/dataframe.txt')"
   ]
  },
  {
   "cell_type": "code",
   "execution_count": 19,
   "metadata": {
    "collapsed": false
   },
   "outputs": [
    {
     "data": {
      "text/plain": [
       "(72, 30)"
      ]
     },
     "execution_count": 19,
     "metadata": {},
     "output_type": "execute_result"
    }
   ],
   "source": [
    "numpyMatrix = np.asarray(df.as_matrix()).astype('float64')\n",
    "\n",
    "numpyMatrix_norm = normalize(numpyMatrix, axis=0)\n",
    "\n",
    "numpyMatrix_norm.shape"
   ]
  },
  {
   "cell_type": "markdown",
   "metadata": {},
   "source": [
    "## Fit Models"
   ]
  },
  {
   "cell_type": "code",
   "execution_count": 15,
   "metadata": {
    "collapsed": true
   },
   "outputs": [],
   "source": [
    "t = TSNE(n_components=2)\n",
    "tsne_proj = t.fit_transform(numpyMatrix_norm)\n",
    "df['TNSE1'] = tsne_proj[:, 0]\n",
    "df['TNSE2'] = tsne_proj[:, 1]\n",
    "\n",
    "isomap = Isomap(n_components=4)\n",
    "isomap_proj = isomap.fit_transform(numpyMatrix_norm)\n",
    "df['Isomap1'] = isomap_proj[:, 0]\n",
    "df['Isomap2'] = isomap_proj[:, 1]\n",
    "df['Isomap3'] = isomap_proj[:, 2]\n",
    "df['Isomap4'] = isomap_proj[:, 3]\n",
    "\n",
    "lle = LocallyLinearEmbedding(n_components=2)\n",
    "lle_proj = lle.fit_transform(numpyMatrix_norm)\n",
    "df['LLE1'] = lle_proj[:, 0]\n",
    "df['LLE2'] = lle_proj[:, 1]\n",
    "\n",
    "pca = PCA(n_components=4)\n",
    "pca_proj = pca.fit_transform(numpyMatrix_norm)\n",
    "df['PCA1'] = pca_proj[:, 0]\n",
    "df['PCA2'] = pca_proj[:, 1]\n",
    "df['PCA3'] = pca_proj[:, 2]\n",
    "df['PCA4'] = pca_proj[:, 3]\n",
    "\n",
    "mds = MDS(n_components=4)\n",
    "mds_proj = mds.fit_transform(numpyMatrix_norm)\n",
    "df['MDS1'] = mds_proj[:, 0]\n",
    "df['MDS2'] = mds_proj[:, 1]\n",
    "df['MDS3'] = mds_proj[:, 2]\n",
    "df['MDS4'] = mds_proj[:, 3]\n",
    "\n",
    "df.to_csv('C:/Users/wen.zhang/My Data/Luminex/dataframe_withTSNE.txt')"
   ]
  },
  {
   "cell_type": "code",
   "execution_count": 20,
   "metadata": {
    "collapsed": false
   },
   "outputs": [
    {
     "data": {
      "text/plain": [
       "(72, 2)"
      ]
     },
     "execution_count": 20,
     "metadata": {},
     "output_type": "execute_result"
    }
   ],
   "source": [
    "tsne_proj.shape"
   ]
  },
  {
   "cell_type": "markdown",
   "metadata": {},
   "source": [
    "## Plot data"
   ]
  },
  {
   "cell_type": "code",
   "execution_count": 67,
   "metadata": {
    "collapsed": false
   },
   "outputs": [
    {
     "ename": "NameError",
     "evalue": "name 'digits' is not defined",
     "output_type": "error",
     "traceback": [
      "\u001b[1;31m---------------------------------------------------------------------------\u001b[0m",
      "\u001b[1;31mNameError\u001b[0m                                 Traceback (most recent call last)",
      "\u001b[1;32m<ipython-input-67-ced39da47876>\u001b[0m in \u001b[0;36m<module>\u001b[1;34m()\u001b[0m\n\u001b[0;32m      2\u001b[0m                     \u001b[1;34m'y'\u001b[0m\u001b[1;33m:\u001b[0m \u001b[0mtsne_proj\u001b[0m\u001b[1;33m[\u001b[0m\u001b[1;33m:\u001b[0m\u001b[1;33m,\u001b[0m\u001b[1;36m1\u001b[0m\u001b[1;33m]\u001b[0m\u001b[1;33m,\u001b[0m\u001b[1;33m\u001b[0m\u001b[0m\n\u001b[0;32m      3\u001b[0m \u001b[1;33m\u001b[0m\u001b[0m\n\u001b[1;32m----> 4\u001b[1;33m                     \u001b[1;34m'target'\u001b[0m\u001b[1;33m:\u001b[0m \u001b[0mdigits\u001b[0m\u001b[1;33m.\u001b[0m\u001b[0mtarget\u001b[0m\u001b[1;33m\u001b[0m\u001b[0m\n\u001b[0m\u001b[0;32m      5\u001b[0m                   })\n\u001b[0;32m      6\u001b[0m \u001b[0msrc\u001b[0m \u001b[1;33m=\u001b[0m \u001b[0mColumnDataSource\u001b[0m\u001b[1;33m(\u001b[0m\u001b[0mdata\u001b[0m\u001b[1;33m=\u001b[0m\u001b[0mdf\u001b[0m\u001b[1;33m)\u001b[0m\u001b[1;33m\u001b[0m\u001b[0m\n",
      "\u001b[1;31mNameError\u001b[0m: name 'digits' is not defined"
     ]
    }
   ],
   "source": [
    "df = pd.DataFrame({ 'x': tsne_proj[:,0],\n",
    "                    'y': tsne_proj[:,1],\n",
    "                    \n",
    "                    'target': digits.target\n",
    "                  })\n",
    "src = ColumnDataSource(data=df)\n",
    "\n",
    "fig = bk.figure(title='t-SNE - digits dataset', x_axis_label='c1', y_axis_label='c2',\n",
    "                plot_width=750, plot_height=450)\n",
    "fig.scatter(source=src, x='x', y='y', fill_color='color',\n",
    "            size=8, line_color='black', line_alpha=0.50)\n",
    "\n",
    "hover_tool = HoverTool(tooltips=[('target', '@target')], snap_to_data=True)\n",
    "fig.add_tools(hover_tool)\n",
    "\n",
    "bk.show(fig)"
   ]
  }
 ],
 "metadata": {
  "kernelspec": {
   "display_name": "Python 3",
   "language": "python",
   "name": "python3"
  },
  "language_info": {
   "codemirror_mode": {
    "name": "ipython",
    "version": 3
   },
   "file_extension": ".py",
   "mimetype": "text/x-python",
   "name": "python",
   "nbconvert_exporter": "python",
   "pygments_lexer": "ipython3",
   "version": "3.4.3"
  }
 },
 "nbformat": 4,
 "nbformat_minor": 0
}
