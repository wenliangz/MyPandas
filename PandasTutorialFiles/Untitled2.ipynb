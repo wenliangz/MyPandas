{
 "worksheets": [
  {
   "cells": [
    {
     "cell_type": "code",
     "metadata": {},
     "outputs": [],
     "input": [
      "from pandas import *"
     ],
     "language": "python"
    },
    {
     "cell_type": "code",
     "metadata": {},
     "outputs": [],
     "input": [
      "df=read_table(\"i:/study.courses/Bootstrappers@umassmed/R_Nick2014/session1/Session_1.txt\")\n",
      "df\n",
      "print 1"
     ],
     "language": "python"
    }
   ]
  }
 ],
 "cells": [],
 "metadata": {
  "name": "",
  "signature": "sha256:aa32c5c16ed0f55bf26fc1bc1ce52e9b4e0c795e52182943aa60a3980d909319"
 },
 "nbformat": 3,
 "nbformat_minor": 0
}