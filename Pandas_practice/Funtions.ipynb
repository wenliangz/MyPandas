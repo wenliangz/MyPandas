{
 "cells": [
  {
   "cell_type": "markdown",
   "metadata": {},
   "source": [
    "#Notes for Pandas Functions\n"
   ]
  },
  {
   "cell_type": "code",
   "execution_count": 1,
   "metadata": {
    "collapsed": false
   },
   "outputs": [],
   "source": [
    "import pandas as pd\n",
    "import numpy as np\n",
    "import matplotlib.pyplot as plt\n",
    "randn = np.random.randn\n",
    "from pandas import *\n",
    "# Set some Pandas options\n",
    "pd.set_option('display.notebook_repr_html', False)\n",
    "pd.set_option('display.max_columns', 20)\n",
    "pd.set_option('display.max_rows', 25)"
   ]
  },
  {
   "cell_type": "code",
   "execution_count": 2,
   "metadata": {
    "collapsed": false
   },
   "outputs": [],
   "source": [
    "%matplotlib inline\n"
   ]
  },
  {
   "cell_type": "code",
   "execution_count": 3,
   "metadata": {
    "collapsed": false
   },
   "outputs": [
    {
     "data": {
      "text/plain": [
       "[<matplotlib.lines.Line2D at 0x87576a0>]"
      ]
     },
     "execution_count": 3,
     "metadata": {},
     "output_type": "execute_result"
    },
    {
     "data": {
      "image/png": "[encoded data removed]",
      "text/plain": [
       "<matplotlib.figure.Figure at 0x498e6a0>"
      ]
     },
     "metadata": {},
     "output_type": "display_data"
    }
   ],
   "source": [
    "plt.plot(np.arange(5))"
   ]
  },
  {
   "cell_type": "code",
   "execution_count": null,
   "metadata": {
    "collapsed": true
   },
   "outputs": [],
   "source": []
  },
  {
   "cell_type": "code",
   "execution_count": 5,
   "metadata": {
    "collapsed": false
   },
   "outputs": [],
   "source": [
    "#define three main datatype for practise purpose\n",
    "index = pd.date_range('1/1/2000', periods=8)\n",
    "s = pd.Series(np.random.randn(5), index=['a', 'b', 'c', 'd', 'e'])\n",
    "df = pd.DataFrame(np.random.randn(8, 3), index=index,columns=['A', 'B', 'C'])\n",
    "wp = pd.Panel(np.random.randn(2, 5, 4), items=['Item1', 'Item2'],major_axis=pd.date_range('1/1/2000', periods=5),minor_axis=['A', 'B', 'C', 'D'])\n"
   ]
  },
  {
   "cell_type": "code",
   "execution_count": 6,
   "metadata": {
    "collapsed": false
   },
   "outputs": [
    {
     "data": {
      "text/plain": [
       "                   A         B         C\n",
       "2000-01-01  0.704726 -0.260610 -1.422523\n",
       "2000-01-02  0.190406  0.481558 -0.385693\n",
       "2000-01-03 -0.283313 -0.164652  1.424444\n",
       "2000-01-04  0.087243  0.394312  1.826059\n",
       "2000-01-05 -0.311782  0.584320 -0.076833\n",
       "2000-01-06 -0.725140 -1.251366 -0.971427\n",
       "2000-01-07 -0.799444  0.781420  0.433226\n",
       "2000-01-08  0.308046 -0.748823  1.098237"
      ]
     },
     "execution_count": 6,
     "metadata": {},
     "output_type": "execute_result"
    }
   ],
   "source": [
    "df"
   ]
  },
  {
   "cell_type": "code",
   "execution_count": 11,
   "metadata": {
    "collapsed": false
   },
   "outputs": [],
   "source": [
    "long_series=Series(randn(1000))"
   ]
  },
  {
   "cell_type": "code",
   "execution_count": 15,
   "metadata": {
    "collapsed": false
   },
   "outputs": [
    {
     "data": {
      "text/plain": [
       "997   -0.307536\n",
       "998   -0.536129\n",
       "999   -1.337922\n",
       "dtype: float64"
      ]
     },
     "execution_count": 15,
     "metadata": {},
     "output_type": "execute_result"
    }
   ],
   "source": [
    "long_series.tail(3)"
   ]
  },
  {
   "cell_type": "code",
   "execution_count": 16,
   "metadata": {
    "collapsed": false
   },
   "outputs": [
    {
     "data": {
      "text/plain": [
       "                   A         B         C\n",
       "2000-01-01  0.704726 -0.260610 -1.422523\n",
       "2000-01-02  0.190406  0.481558 -0.385693\n",
       "2000-01-03 -0.283313 -0.164652  1.424444\n",
       "2000-01-04  0.087243  0.394312  1.826059\n",
       "2000-01-05 -0.311782  0.584320 -0.076833\n",
       "2000-01-06 -0.725140 -1.251366 -0.971427\n",
       "2000-01-07 -0.799444  0.781420  0.433226\n",
       "2000-01-08  0.308046 -0.748823  1.098237"
      ]
     },
     "execution_count": 16,
     "metadata": {},
     "output_type": "execute_result"
    }
   ],
   "source": [
    "df"
   ]
  },
  {
   "cell_type": "code",
   "execution_count": 17,
   "metadata": {
    "collapsed": false
   },
   "outputs": [
    {
     "data": {
      "text/plain": [
       "                   A         B         C\n",
       "2000-01-01  0.704726 -0.260610 -1.422523\n",
       "2000-01-02  0.190406  0.481558 -0.385693\n",
       "2000-01-03 -0.283313 -0.164652  1.424444"
      ]
     },
     "execution_count": 17,
     "metadata": {},
     "output_type": "execute_result"
    }
   ],
   "source": [
    "df[:3]"
   ]
  },
  {
   "cell_type": "code",
   "execution_count": 23,
   "metadata": {
    "collapsed": false
   },
   "outputs": [],
   "source": [
    "df.columns=[x.lower()for x in df.columns] "
   ]
  },
  {
   "cell_type": "code",
   "execution_count": 24,
   "metadata": {
    "collapsed": false
   },
   "outputs": [
    {
     "data": {
      "text/plain": [
       "                   a         b         c\n",
       "2000-01-01  0.704726 -0.260610 -1.422523\n",
       "2000-01-02  0.190406  0.481558 -0.385693\n",
       "2000-01-03 -0.283313 -0.164652  1.424444\n",
       "2000-01-04  0.087243  0.394312  1.826059\n",
       "2000-01-05 -0.311782  0.584320 -0.076833\n",
       "2000-01-06 -0.725140 -1.251366 -0.971427\n",
       "2000-01-07 -0.799444  0.781420  0.433226\n",
       "2000-01-08  0.308046 -0.748823  1.098237"
      ]
     },
     "execution_count": 24,
     "metadata": {},
     "output_type": "execute_result"
    }
   ],
   "source": [
    "df"
   ]
  },
  {
   "cell_type": "code",
   "execution_count": 25,
   "metadata": {
    "collapsed": false
   },
   "outputs": [
    {
     "data": {
      "text/plain": [
       "array([-0.18757663,  1.16650906, -1.50265273,  0.11880026,  0.53488484])"
      ]
     },
     "execution_count": 25,
     "metadata": {},
     "output_type": "execute_result"
    }
   ],
   "source": [
    "s.values"
   ]
  },
  {
   "cell_type": "code",
   "execution_count": 26,
   "metadata": {
    "collapsed": false
   },
   "outputs": [
    {
     "data": {
      "text/plain": [
       "array([[ 0.70472624, -0.26061026, -1.42252262],\n",
       "       [ 0.1904061 ,  0.48155755, -0.38569334],\n",
       "       [-0.28331348, -0.16465228,  1.42444409],\n",
       "       [ 0.0872427 ,  0.39431238,  1.82605929],\n",
       "       [-0.31178167,  0.58431974, -0.07683288],\n",
       "       [-0.72513982, -1.25136602, -0.97142675],\n",
       "       [-0.79944385,  0.7814203 ,  0.43322595],\n",
       "       [ 0.30804594, -0.74882291,  1.09823737]])"
      ]
     },
     "execution_count": 26,
     "metadata": {},
     "output_type": "execute_result"
    }
   ],
   "source": [
    "df.values"
   ]
  },
  {
   "cell_type": "code",
   "execution_count": 27,
   "metadata": {
    "collapsed": false
   },
   "outputs": [
    {
     "data": {
      "text/plain": [
       "array([[[ 2.21856627, -1.61009996,  0.23159721,  0.67974872],\n",
       "        [ 0.57922026,  1.26600599, -0.2374601 ,  0.13902159],\n",
       "        [-2.67838474,  0.28505482,  0.31733753,  0.3985519 ],\n",
       "        [-0.80872924, -0.66456418,  0.97992061,  0.59356328],\n",
       "        [ 0.00715613,  0.11876673,  0.81736151,  1.25429909]],\n",
       "\n",
       "       [[-0.78358409, -0.08193305, -0.10102011, -1.78214472],\n",
       "        [ 0.38812807,  0.06834751,  2.37033482, -0.68196436],\n",
       "        [-0.17210235,  0.93905252,  0.03326274,  1.47486782],\n",
       "        [ 1.68264984, -0.38978378,  0.73490175,  1.36471029],\n",
       "        [ 1.66113873,  0.44333522, -0.05984994, -1.71911795]]])"
      ]
     },
     "execution_count": 27,
     "metadata": {},
     "output_type": "execute_result"
    }
   ],
   "source": [
    "wp.values"
   ]
  },
  {
   "cell_type": "code",
   "execution_count": 71,
   "metadata": {
    "collapsed": false
   },
   "outputs": [],
   "source": [
    "df=DataFrame(\n",
    "    {'One':Series(randn(3),index=['a','b','c']),\n",
    "     'Two':Series(randn(4),index=['a','b','c','d']),\n",
    "     'Three':Series(randn(3),index=['b','c','d'])}\n",
    ")"
   ]
  },
  {
   "cell_type": "code",
   "execution_count": 72,
   "metadata": {
    "collapsed": false
   },
   "outputs": [
    {
     "data": {
      "text/plain": [
       "        One     Three       Two\n",
       "a -1.406350       NaN -0.675100\n",
       "b  0.322027  0.067113  0.247237\n",
       "c  0.730409 -0.193003 -0.810894\n",
       "d       NaN -1.219564 -1.538614"
      ]
     },
     "execution_count": 72,
     "metadata": {},
     "output_type": "execute_result"
    }
   ],
   "source": [
    "df"
   ]
  },
  {
   "cell_type": "code",
   "execution_count": 77,
   "metadata": {
    "collapsed": false
   },
   "outputs": [
    {
     "data": {
      "text/plain": [
       "One      0.322027\n",
       "Three    0.067113\n",
       "Two      0.247237\n",
       "Name: b, dtype: float64"
      ]
     },
     "execution_count": 77,
     "metadata": {},
     "output_type": "execute_result"
    }
   ],
   "source": [
    "row=df.ix[1];row"
   ]
  },
  {
   "cell_type": "code",
   "execution_count": 83,
   "metadata": {
    "collapsed": false
   },
   "outputs": [
    {
     "data": {
      "text/plain": [
       "a   -0.675100\n",
       "b    0.247237\n",
       "c   -0.810894\n",
       "d   -1.538614\n",
       "Name: Two, dtype: float64"
      ]
     },
     "execution_count": 83,
     "metadata": {},
     "output_type": "execute_result"
    }
   ],
   "source": [
    "col=df['Two'];col"
   ]
  },
  {
   "cell_type": "code",
   "execution_count": 79,
   "metadata": {
    "collapsed": false
   },
   "outputs": [
    {
     "data": {
      "text/plain": [
       "        One     Three       Two\n",
       "a -1.728378       NaN -0.922338\n",
       "b  0.000000  0.000000  0.000000\n",
       "c  0.408381 -0.260116 -1.058131\n",
       "d       NaN -1.286677 -1.785851"
      ]
     },
     "execution_count": 79,
     "metadata": {},
     "output_type": "execute_result"
    }
   ],
   "source": [
    "df.sub(row,axis='columns') # Each row substract value of the second row"
   ]
  },
  {
   "cell_type": "code",
   "execution_count": 87,
   "metadata": {
    "collapsed": false
   },
   "outputs": [
    {
     "data": {
      "text/plain": [
       "        One     Three       Two\n",
       "a -1.728378       NaN -0.922338\n",
       "b  0.000000  0.000000  0.000000\n",
       "c  0.408381 -0.260116 -1.058131\n",
       "d       NaN -1.286677 -1.785851"
      ]
     },
     "execution_count": 87,
     "metadata": {},
     "output_type": "execute_result"
    }
   ],
   "source": [
    "df.sub(row,axis=1)"
   ]
  },
  {
   "cell_type": "markdown",
   "metadata": {},
   "source": [
    "It specifies the axis along which the means are computed. By default axis=0. This is consistent with the numpy.mean usage when axis is specified explicitly (in numpy.mean, axis==None by default, which computes the mean value over the flattened array) , in which axis=0 along the rows (namely, index in pandas), and axis=1 along the columns.\n",
    "+------------+---------+--------+\n",
    "|            |  A      |  B     |\n",
    "+------------+---------+---------\n",
    "|      0     | 0.626386| 1.52325|----axis=1----->\n",
    "+------------+---------+--------+\n",
    "                |         |\n",
    "                | axis=0  |\n",
    "                ↓         ↓"
   ]
  },
  {
   "cell_type": "code",
   "execution_count": 90,
   "metadata": {
    "collapsed": false
   },
   "outputs": [
    {
     "data": {
      "text/plain": [
       "        One     Three  Two\n",
       "a -0.731250       NaN    0\n",
       "b  0.074790 -0.180125    0\n",
       "c  1.541302  0.617890    0\n",
       "d       NaN  0.319050    0"
      ]
     },
     "execution_count": 90,
     "metadata": {},
     "output_type": "execute_result"
    }
   ],
   "source": [
    "df.sub(column,axis='index')"
   ]
  },
  {
   "cell_type": "code",
   "execution_count": 91,
   "metadata": {
    "collapsed": false
   },
   "outputs": [
    {
     "data": {
      "text/plain": [
       "        One     Three  Two\n",
       "a -0.731250       NaN    0\n",
       "b  0.074790 -0.180125    0\n",
       "c  1.541302  0.617890    0\n",
       "d       NaN  0.319050    0"
      ]
     },
     "execution_count": 91,
     "metadata": {},
     "output_type": "execute_result"
    }
   ],
   "source": [
    "df.sub(column,axis=0)"
   ]
  },
  {
   "cell_type": "markdown",
   "metadata": {},
   "source": [
    "Add multi-index for a dataframe from turples"
   ]
  },
  {
   "cell_type": "code",
   "execution_count": 93,
   "metadata": {
    "collapsed": false
   },
   "outputs": [
    {
     "data": {
      "text/plain": [
       "        One     Three       Two\n",
       "a -1.406350       NaN -0.675100\n",
       "b  0.322027  0.067113  0.247237\n",
       "c  0.730409 -0.193003 -0.810894\n",
       "d       NaN -1.219564 -1.538614"
      ]
     },
     "execution_count": 93,
     "metadata": {},
     "output_type": "execute_result"
    }
   ],
   "source": [
    "dfmi=df.copy();dfmi"
   ]
  },
  {
   "cell_type": "code",
   "execution_count": 101,
   "metadata": {
    "collapsed": false
   },
   "outputs": [
    {
     "data": {
      "text/plain": [
       "                   One     Three       Two\n",
       "first second                              \n",
       "1     a      -1.406350       NaN -0.675100\n",
       "      b       0.322027  0.067113  0.247237\n",
       "      c       0.730409 -0.193003 -0.810894\n",
       "2     a            NaN -1.219564 -1.538614"
      ]
     },
     "execution_count": 101,
     "metadata": {},
     "output_type": "execute_result"
    }
   ],
   "source": [
    "dfmi.index=MultiIndex.from_tuples([(1,'a'),(1,'b'),(1,'c'),(2,'a')],names=['first','second']);dfmi"
   ]
  },
  {
   "cell_type": "code",
   "execution_count": 105,
   "metadata": {
    "collapsed": false
   },
   "outputs": [
    {
     "data": {
      "text/plain": [
       "                   A         B         C         D\n",
       "2000-01-01  2.218566 -1.610100  0.231597  0.679749\n",
       "2000-01-02  0.579220  1.266006 -0.237460  0.139022\n",
       "2000-01-03 -2.678385  0.285055  0.317338  0.398552\n",
       "2000-01-04 -0.808729 -0.664564  0.979921  0.593563\n",
       "2000-01-05  0.007156  0.118767  0.817362  1.254299"
      ]
     },
     "execution_count": 105,
     "metadata": {},
     "output_type": "execute_result"
    }
   ],
   "source": [
    "wp['Item1']"
   ]
  },
  {
   "cell_type": "code",
   "execution_count": 103,
   "metadata": {
    "collapsed": false
   },
   "outputs": [
    {
     "data": {
      "text/plain": [
       "      Item1     Item2\n",
       "A -0.136434  0.555246\n",
       "B -0.120967  0.195804\n",
       "C  0.421751  0.595526\n",
       "D  0.613037 -0.268730"
      ]
     },
     "execution_count": 103,
     "metadata": {},
     "output_type": "execute_result"
    }
   ],
   "source": [
    "major_mean=wp.mean(axis='major');major_mean"
   ]
  },
  {
   "cell_type": "code",
   "execution_count": 107,
   "metadata": {
    "collapsed": false
   },
   "outputs": [
    {
     "data": {
      "text/plain": [
       "               Item1     Item2\n",
       "2000-01-01  0.379953 -0.687170\n",
       "2000-01-02  0.436697  0.536212\n",
       "2000-01-03 -0.419360  0.568770\n",
       "2000-01-04  0.025048  0.848120\n",
       "2000-01-05  0.549396  0.081377"
      ]
     },
     "execution_count": 107,
     "metadata": {},
     "output_type": "execute_result"
    }
   ],
   "source": [
    "minor_mean=wp.mean(axis='minor');minor_mean"
   ]
  },
  {
   "cell_type": "code",
   "execution_count": 108,
   "metadata": {
    "collapsed": false
   },
   "outputs": [
    {
     "data": {
      "text/plain": [
       "        One     Three       Two\n",
       "a -1.406350       NaN -0.675100\n",
       "b  0.322027  0.067113  0.247237\n",
       "c  0.730409 -0.193003 -0.810894\n",
       "d       NaN -1.219564 -1.538614"
      ]
     },
     "execution_count": 108,
     "metadata": {},
     "output_type": "execute_result"
    }
   ],
   "source": [
    "df"
   ]
  },
  {
   "cell_type": "code",
   "execution_count": 113,
   "metadata": {
    "collapsed": true
   },
   "outputs": [],
   "source": [
    "df2=DataFrame(\n",
    "    {'One':Series(randn(3),index=['a','b','c']),\n",
    "     'Two':Series(randn(4),index=['a','b','c','d']),\n",
    "     'Three':Series(randn(3),index=['b','c','d'])}\n",
    ")"
   ]
  },
  {
   "cell_type": "code",
   "execution_count": 114,
   "metadata": {
    "collapsed": false
   },
   "outputs": [
    {
     "data": {
      "text/plain": [
       "       One     Three       Two\n",
       "a -0.10519       NaN -0.443038\n",
       "b -0.19221  0.088151 -1.623004\n",
       "c  2.05490 -1.637074 -0.244123\n",
       "d      NaN -1.764709  0.549179"
      ]
     },
     "execution_count": 114,
     "metadata": {},
     "output_type": "execute_result"
    }
   ],
   "source": [
    "df2"
   ]
  },
  {
   "cell_type": "code",
   "execution_count": 119,
   "metadata": {
    "collapsed": false
   },
   "outputs": [
    {
     "data": {
      "text/plain": [
       "       One     Three       Two\n",
       "a -0.10519  1.000000 -0.443038\n",
       "b -0.19221  0.088151 -1.623004\n",
       "c  2.05490 -1.637074 -0.244123\n",
       "d      NaN -1.764709  0.549179"
      ]
     },
     "execution_count": 119,
     "metadata": {},
     "output_type": "execute_result"
    }
   ],
   "source": [
    "df2.ix[0,'Three']=1.;df2"
   ]
  },
  {
   "cell_type": "code",
   "execution_count": 120,
   "metadata": {
    "collapsed": false
   },
   "outputs": [
    {
     "data": {
      "text/plain": [
       "        One     Three       Two\n",
       "a -1.511540       NaN -1.118138\n",
       "b  0.129817  0.155263 -1.375766\n",
       "c  2.785309 -1.830077 -1.055017\n",
       "d       NaN -2.984273 -0.989435"
      ]
     },
     "execution_count": 120,
     "metadata": {},
     "output_type": "execute_result"
    }
   ],
   "source": [
    "df+df2"
   ]
  },
  {
   "cell_type": "code",
   "execution_count": 122,
   "metadata": {
    "collapsed": false
   },
   "outputs": [
    {
     "data": {
      "text/plain": [
       "        One     Three       Two\n",
       "a -1.511540  2.000000 -1.118138\n",
       "b  0.129817  0.155263 -1.375766\n",
       "c  2.785309 -1.830077 -1.055017\n",
       "d       NaN -2.984273 -0.989435"
      ]
     },
     "execution_count": 122,
     "metadata": {},
     "output_type": "execute_result"
    }
   ],
   "source": [
    "df.add(df2,fill_value=1)"
   ]
  },
  {
   "cell_type": "markdown",
   "metadata": {},
   "source": [
    "###Combine overlapping data sets"
   ]
  },
  {
   "cell_type": "code",
   "execution_count": null,
   "metadata": {
    "collapsed": true
   },
   "outputs": [],
   "source": []
  }
 ],
 "metadata": {
  "celltoolbar": "Raw Cell Format",
  "kernelspec": {
   "display_name": "Python 3",
   "language": "python",
   "name": "python3"
  },
  "language_info": {
   "codemirror_mode": {
    "name": "ipython",
    "version": 3
   },
   "file_extension": ".py",
   "mimetype": "text/x-python",
   "name": "python",
   "nbconvert_exporter": "python",
   "pygments_lexer": "ipython3",
   "version": "3.4.3"
  }
 },
 "nbformat": 4,
 "nbformat_minor": 0
}
