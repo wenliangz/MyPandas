{
 "cells": [
  {
   "cell_type": "markdown",
   "metadata": {},
   "source": [
    "#Pandas input/output tools"
   ]
  },
  {
   "cell_type": "code",
   "execution_count": 4,
   "metadata": {
    "collapsed": false
   },
   "outputs": [],
   "source": [
    "import pandas as pd\n",
    "import numpy as np\n",
    "import matplotlib.pyplot as plt\n",
    "from pandas import *\n",
    "# Set some Pandas options\n",
    "pd.set_option('display.notebook_repr_html', False)\n",
    "pd.set_option('display.max_columns', 20)\n",
    "pd.set_option('display.max_rows', 25)"
   ]
  },
  {
   "cell_type": "code",
   "execution_count": 5,
   "metadata": {
    "collapsed": false
   },
   "outputs": [],
   "source": [
    "%matplotlib inline\n"
   ]
  },
  {
   "cell_type": "code",
   "execution_count": 9,
   "metadata": {
    "collapsed": false
   },
   "outputs": [
    {
     "data": {
      "text/plain": [
       "[<matplotlib.lines.Line2D at 0x5d78f60>]"
      ]
     },
     "execution_count": 9,
     "metadata": {},
     "output_type": "execute_result"
    },
    {
     "data": {
      "image/png": "[encoded data removed]",
      "text/plain": [
       "<matplotlib.figure.Figure at 0x5cdcb38>"
      ]
     },
     "metadata": {},
     "output_type": "display_data"
    }
   ],
   "source": [
    "plt.plot(np.arange(5))"
   ]
  },
  {
   "cell_type": "code",
   "execution_count": 7,
   "metadata": {
    "collapsed": false
   },
   "outputs": [],
   "source": [
    "#define three main datatype for practise purpose\n",
    "index = pd.date_range('1/1/2000', periods=8)\n",
    "s = pd.Series(np.random.randn(5), index=['a', 'b', 'c', 'd', 'e'])\n",
    "df = pd.DataFrame(np.random.randn(8, 3), index=index,columns=['A', 'B', 'C'])\n",
    "wp = pd.Panel(np.random.randn(2, 5, 4), items=['Item1', 'Item2'],major_axis=pd.date_range('1/1/2000', periods=5),minor_axis=['A', 'B', 'C', 'D'])\n"
   ]
  },
  {
   "cell_type": "code",
   "execution_count": 8,
   "metadata": {
    "collapsed": false
   },
   "outputs": [
    {
     "data": {
      "text/plain": [
       "                   A         B         C\n",
       "2000-01-01 -0.904479  2.908423  1.575942\n",
       "2000-01-02  0.631975  0.335730  0.352090\n",
       "2000-01-03  0.026708  0.280262 -0.700808\n",
       "2000-01-04 -1.030404  1.934270 -0.471470\n",
       "2000-01-05  2.165342 -0.891363  0.140662\n",
       "2000-01-06 -0.466712 -0.165520 -1.171974\n",
       "2000-01-07 -0.398217 -1.188767 -0.577552\n",
       "2000-01-08  0.025178 -0.600793 -0.350710"
      ]
     },
     "execution_count": 8,
     "metadata": {},
     "output_type": "execute_result"
    }
   ],
   "source": [
    "df"
   ]
  },
  {
   "cell_type": "code",
   "execution_count": 12,
   "metadata": {
    "collapsed": false
   },
   "outputs": [
    {
     "name": "stdout",
     "output_type": "stream",
     "text": [
      "date,A,B,C\n",
      "20090101,a,1,2\n",
      "20090102,b,3,4\n",
      "20090103,c,4,5\n",
      "\n",
      "\n"
     ]
    }
   ],
   "source": [
    "print(open('foo.csv').read()) # open file as a object. Read() method reads the lines"
   ]
  },
  {
   "cell_type": "code",
   "execution_count": 14,
   "metadata": {
    "collapsed": false
   },
   "outputs": [
    {
     "name": "stdout",
     "output_type": "stream",
     "text": [
      "       date  A  B  C\n",
      "0  20090101  a  1  2\n",
      "1  20090102  b  3  4\n",
      "2  20090103  c  4  5\n"
     ]
    }
   ],
   "source": [
    "print (read_csv('foo.csv'))  #read_csv read lines directly as pandas dataframe"
   ]
  },
  {
   "cell_type": "code",
   "execution_count": 15,
   "metadata": {
    "collapsed": false
   },
   "outputs": [
    {
     "name": "stdout",
     "output_type": "stream",
     "text": [
      "          A  B  C\n",
      "date             \n",
      "20090101  a  1  2\n",
      "20090102  b  3  4\n",
      "20090103  c  4  5\n"
     ]
    }
   ],
   "source": [
    "print (read_csv('foo.csv',index_col=0)) # pass the first column as index"
   ]
  },
  {
   "cell_type": "code",
   "execution_count": 16,
   "metadata": {
    "collapsed": false
   },
   "outputs": [
    {
     "name": "stdout",
     "output_type": "stream",
     "text": [
      "          A  B  C\n",
      "date             \n",
      "20090101  a  1  2\n",
      "20090102  b  3  4\n",
      "20090103  c  4  5\n"
     ]
    }
   ],
   "source": [
    "print (read_csv('foo.csv',index_col='date'))"
   ]
  },
  {
   "cell_type": "code",
   "execution_count": 21,
   "metadata": {
    "collapsed": true
   },
   "outputs": [],
   "source": [
    "import sys\n",
    "if sys.version_info[0] < 3:\n",
    "    from StringIO import StringIO\n",
    "else:\n",
    "    from io import StringIO\n",
    "from pandas import DataFrame"
   ]
  },
  {
   "cell_type": "markdown",
   "metadata": {},
   "source": [
    "##read data"
   ]
  },
  {
   "cell_type": "code",
   "execution_count": 442,
   "metadata": {
    "collapsed": false
   },
   "outputs": [
    {
     "name": "stdout",
     "output_type": "stream",
     "text": [
      "355 451\n"
     ]
    },
    {
     "data": {
      "text/plain": [
       "                       Flt-3L       GM-CSF\n",
       "Sample                                    \n",
       "Blank                     NaN          NaN\n",
       "Blank                     NaN          NaN\n",
       "0.6 pg/ml         0.363596907  0.687809871\n",
       "0.6 pg/ml         0.363596907  0.544774197\n",
       "3.2 pg/ml          5.38374748  3.591270169\n",
       "3.2 pg/ml         3.247945738  2.907875849\n",
       "16 pg/ml          12.98990876   16.1326137\n",
       "16 pg/ml          13.73606995  15.85786358\n",
       "80 pg/ml          90.32664892  84.54039217\n",
       "80 pg/ml           82.4547262   81.9714476\n",
       "400 pg/ml         449.7123544  388.5781019\n",
       "400 pg/ml         408.3582592   362.989438\n",
       "...                       ...          ...\n",
       "800499 180 Alone  15.90307684  284.0257565\n",
       "800499 180 Alone  15.19170049  295.1175482\n",
       "800499 181 MEC-1  16.60455599  489.8479109\n",
       "800499 181 MEC-1  15.90307684  529.6189942\n",
       "800290 181 K562    14.4696591  117.1133714\n",
       "800290 181 K562   15.19170049   135.065361\n",
       "PBMC 181          15.90307684  28.08707519\n",
       "PBMC 181          16.60455599  28.93184113\n",
       "800499 181 Alone  10.66279004  34.17316686\n",
       "800499 181 Alone  12.98990876  40.62237557\n",
       "800499 181 K562   12.22997435  114.3295191\n",
       "800499 181 K562   15.19170049  133.1319282\n",
       "\n",
       "[96 rows x 2 columns]"
      ]
     },
     "execution_count": 442,
     "metadata": {},
     "output_type": "execute_result"
    }
   ],
   "source": [
    "\n",
    "\n",
    "datafile='C:/Users/wen.zhang/My Data/Luminex/TC15001 Luminex Setup JG 04Feb2015.csv'\n",
    "\n",
    "with open(datafile) as f:\n",
    "    for index,line in enumerate(f):\n",
    "        if line.strip().split(',')[0]=='DataType:' and line.strip().split(',')[1]=='Result':\n",
    "            data_start=index+1\n",
    "        elif line.strip().split(',')[0]=='DataType:' and line.strip().split(',')[1]=='Range':\n",
    "            data_end=index-2\n",
    "print (data_start,data_end)\n",
    "df=read_csv(datafile,nrows=data_end-data_start,skiprows=data_start,usecols=[1,2,3,4,5,6,7,8,9,10,11,12,13,14,15],index_col=[0])\n",
    "df[[0,1]]"
   ]
  },
  {
   "cell_type": "code",
   "execution_count": 443,
   "metadata": {
    "collapsed": false
   },
   "outputs": [
    {
     "data": {
      "text/plain": [
       "Sample                 \n",
       "0.6 pg/ml        Flt-3L    0.363596907\n",
       "                 GM-CSF    0.687809871\n",
       "                 IFNg      0.564085731\n",
       "                 IL-10     0.531045623\n",
       "                 IL-1B     0.658156369\n",
       "                 IL-2      0.552731105\n",
       "                 IL-4        0.5948365\n",
       "                 IL-5        0.5999923\n",
       "                 IL-6      0.590719234\n",
       "                 IL-7      0.189472134\n",
       "                 IL-8      0.597972915\n",
       "                 MIP-1a          < 0.6\n",
       "                              ...     \n",
       "800499 181 K562  IFNg      65.14185195\n",
       "                 IL-10     37.47172702\n",
       "                 IL-1B     0.237963107\n",
       "                 IL-2      0.306176733\n",
       "                 IL-4         5.893583\n",
       "                 IL-5         12.69529\n",
       "                 IL-6      35.47509549\n",
       "                 IL-7      1.411881057\n",
       "                 IL-8      293.7376031\n",
       "                 MIP-1a    169.9048418\n",
       "                 MIP-1b    112.3099765\n",
       "                 TNFa      11.81495883\n",
       "dtype: object"
      ]
     },
     "execution_count": 443,
     "metadata": {},
     "output_type": "execute_result"
    }
   ],
   "source": [
    "data_stack=df.stack();data_stack"
   ]
  },
  {
   "cell_type": "code",
   "execution_count": 444,
   "metadata": {
    "collapsed": false
   },
   "outputs": [
    {
     "data": {
      "text/plain": [
       "Sample           Cytokine\n",
       "0.6 pg/ml        Flt-3L      0.363596907\n",
       "                 GM-CSF      0.687809871\n",
       "                 IFNg        0.564085731\n",
       "                 IL-10       0.531045623\n",
       "                 IL-1B       0.658156369\n",
       "                 IL-2        0.552731105\n",
       "                 IL-4          0.5948365\n",
       "                 IL-5          0.5999923\n",
       "                 IL-6        0.590719234\n",
       "                 IL-7        0.189472134\n",
       "                 IL-8        0.597972915\n",
       "                 MIP-1a            < 0.6\n",
       "                                ...     \n",
       "800499 181 K562  IFNg        65.14185195\n",
       "                 IL-10       37.47172702\n",
       "                 IL-1B       0.237963107\n",
       "                 IL-2        0.306176733\n",
       "                 IL-4           5.893583\n",
       "                 IL-5           12.69529\n",
       "                 IL-6        35.47509549\n",
       "                 IL-7        1.411881057\n",
       "                 IL-8        293.7376031\n",
       "                 MIP-1a      169.9048418\n",
       "                 MIP-1b      112.3099765\n",
       "                 TNFa        11.81495883\n",
       "dtype: object"
      ]
     },
     "execution_count": 444,
     "metadata": {},
     "output_type": "execute_result"
    }
   ],
   "source": [
    "data_stack.index.names=['Sample','Cytokine'];data_stack"
   ]
  },
  {
   "cell_type": "code",
   "execution_count": 445,
   "metadata": {
    "collapsed": false
   },
   "outputs": [],
   "source": [
    "data=data_stack.reset_index()"
   ]
  },
  {
   "cell_type": "code",
   "execution_count": 446,
   "metadata": {
    "collapsed": false
   },
   "outputs": [
    {
     "data": {
      "text/plain": [
       "               Sample Cytokine            0\n",
       "0           0.6 pg/ml   Flt-3L  0.363596907\n",
       "1           0.6 pg/ml   GM-CSF  0.687809871\n",
       "2           0.6 pg/ml     IFNg  0.564085731\n",
       "3           0.6 pg/ml    IL-10  0.531045623\n",
       "4           0.6 pg/ml    IL-1B  0.658156369\n",
       "5           0.6 pg/ml     IL-2  0.552731105\n",
       "6           0.6 pg/ml     IL-4    0.5948365\n",
       "7           0.6 pg/ml     IL-5    0.5999923\n",
       "8           0.6 pg/ml     IL-6  0.590719234\n",
       "9           0.6 pg/ml     IL-7  0.189472134\n",
       "10          0.6 pg/ml     IL-8  0.597972915\n",
       "11          0.6 pg/ml   MIP-1a        < 0.6\n",
       "...               ...      ...          ...\n",
       "1304  800499 181 K562     IFNg  65.14185195\n",
       "1305  800499 181 K562    IL-10  37.47172702\n",
       "1306  800499 181 K562    IL-1B  0.237963107\n",
       "1307  800499 181 K562     IL-2  0.306176733\n",
       "1308  800499 181 K562     IL-4     5.893583\n",
       "1309  800499 181 K562     IL-5     12.69529\n",
       "1310  800499 181 K562     IL-6  35.47509549\n",
       "1311  800499 181 K562     IL-7  1.411881057\n",
       "1312  800499 181 K562     IL-8  293.7376031\n",
       "1313  800499 181 K562   MIP-1a  169.9048418\n",
       "1314  800499 181 K562   MIP-1b  112.3099765\n",
       "1315  800499 181 K562     TNFa  11.81495883\n",
       "\n",
       "[1316 rows x 3 columns]"
      ]
     },
     "execution_count": 446,
     "metadata": {},
     "output_type": "execute_result"
    }
   ],
   "source": [
    "data"
   ]
  },
  {
   "cell_type": "code",
   "execution_count": 447,
   "metadata": {
    "collapsed": false
   },
   "outputs": [
    {
     "data": {
      "text/plain": [
       "               Sample Cytokine        Level\n",
       "0           0.6 pg/ml   Flt-3L  0.363596907\n",
       "1           0.6 pg/ml   GM-CSF  0.687809871\n",
       "2           0.6 pg/ml     IFNg  0.564085731\n",
       "3           0.6 pg/ml    IL-10  0.531045623\n",
       "4           0.6 pg/ml    IL-1B  0.658156369\n",
       "5           0.6 pg/ml     IL-2  0.552731105\n",
       "6           0.6 pg/ml     IL-4    0.5948365\n",
       "7           0.6 pg/ml     IL-5    0.5999923\n",
       "8           0.6 pg/ml     IL-6  0.590719234\n",
       "9           0.6 pg/ml     IL-7  0.189472134\n",
       "10          0.6 pg/ml     IL-8  0.597972915\n",
       "11          0.6 pg/ml   MIP-1a        < 0.6\n",
       "...               ...      ...          ...\n",
       "1304  800499 181 K562     IFNg  65.14185195\n",
       "1305  800499 181 K562    IL-10  37.47172702\n",
       "1306  800499 181 K562    IL-1B  0.237963107\n",
       "1307  800499 181 K562     IL-2  0.306176733\n",
       "1308  800499 181 K562     IL-4     5.893583\n",
       "1309  800499 181 K562     IL-5     12.69529\n",
       "1310  800499 181 K562     IL-6  35.47509549\n",
       "1311  800499 181 K562     IL-7  1.411881057\n",
       "1312  800499 181 K562     IL-8  293.7376031\n",
       "1313  800499 181 K562   MIP-1a  169.9048418\n",
       "1314  800499 181 K562   MIP-1b  112.3099765\n",
       "1315  800499 181 K562     TNFa  11.81495883\n",
       "\n",
       "[1316 rows x 3 columns]"
      ]
     },
     "execution_count": 447,
     "metadata": {},
     "output_type": "execute_result"
    }
   ],
   "source": [
    "data=data.rename(columns={0:'Level'});data"
   ]
  },
  {
   "cell_type": "markdown",
   "metadata": {},
   "source": [
    "##Read metadata"
   ]
  },
  {
   "cell_type": "code",
   "execution_count": 448,
   "metadata": {
    "collapsed": false
   },
   "outputs": [
    {
     "data": {
      "text/plain": [
       "         0              1\n",
       "0  Program        xPONENT\n",
       "1    Build     4.2.1324.0\n",
       "2     Date     12/10/2014\n",
       "3      NaN            NaN\n",
       "4       SN  MAGPX13023702"
      ]
     },
     "execution_count": 448,
     "metadata": {},
     "output_type": "execute_result"
    }
   ],
   "source": [
    "mt=read_csv(datafile,nrows=12,usecols=[0,1],header=None);mt.head()"
   ]
  },
  {
   "cell_type": "code",
   "execution_count": 421,
   "metadata": {
    "collapsed": false
   },
   "outputs": [
    {
     "data": {
      "text/plain": [
       "         0           1\n",
       "0  Program       Build\n",
       "1  xPONENT  4.2.1324.0"
      ]
     },
     "execution_count": 421,
     "metadata": {},
     "output_type": "execute_result"
    }
   ],
   "source": [
    "mtdata=mt.transpose();mtdata.head()[[0,1]]"
   ]
  },
  {
   "cell_type": "code",
   "execution_count": 449,
   "metadata": {
    "collapsed": false
   },
   "outputs": [
    {
     "data": {
      "text/plain": [
       "0  Program       Build\n",
       "0  Program       Build\n",
       "1  xPONENT  4.2.1324.0"
      ]
     },
     "execution_count": 449,
     "metadata": {},
     "output_type": "execute_result"
    }
   ],
   "source": [
    "mtdata.columns=mtdata.iloc[0];mtdata.head()[[0,1]]"
   ]
  },
  {
   "cell_type": "code",
   "execution_count": 450,
   "metadata": {
    "collapsed": false
   },
   "outputs": [
    {
     "data": {
      "text/plain": [
       "Int64Index([0, 1], dtype='int64')"
      ]
     },
     "execution_count": 450,
     "metadata": {},
     "output_type": "execute_result"
    }
   ],
   "source": [
    "mtdata.index"
   ]
  },
  {
   "cell_type": "code",
   "execution_count": 451,
   "metadata": {
    "collapsed": false
   },
   "outputs": [
    {
     "data": {
      "text/plain": [
       "0  Program       Build\n",
       "1  xPONENT  4.2.1324.0"
      ]
     },
     "execution_count": 451,
     "metadata": {},
     "output_type": "execute_result"
    }
   ],
   "source": [
    "mtdata_drop=mtdata.reindex(mtdata.index.drop(0));mtdata_drop[[0,1]]"
   ]
  },
  {
   "cell_type": "code",
   "execution_count": 452,
   "metadata": {
    "collapsed": false
   },
   "outputs": [
    {
     "data": {
      "text/plain": [
       "Int64Index([1], dtype='int64')"
      ]
     },
     "execution_count": 452,
     "metadata": {},
     "output_type": "execute_result"
    }
   ],
   "source": [
    "mtdata_drop.index"
   ]
  },
  {
   "cell_type": "code",
   "execution_count": 453,
   "metadata": {
    "collapsed": false
   },
   "outputs": [
    {
     "data": {
      "text/plain": [
       "                Flt-3L       GM-CSF\n",
       "Sample                             \n",
       "Blank              NaN          NaN\n",
       "Blank              NaN          NaN\n",
       "0.6 pg/ml  0.363596907  0.687809871\n",
       "0.6 pg/ml  0.363596907  0.544774197\n",
       "3.2 pg/ml   5.38374748  3.591270169"
      ]
     },
     "execution_count": 453,
     "metadata": {},
     "output_type": "execute_result"
    }
   ],
   "source": [
    "df[[0,1]].head()"
   ]
  },
  {
   "cell_type": "code",
   "execution_count": 454,
   "metadata": {
    "collapsed": false
   },
   "outputs": [
    {
     "data": {
      "text/plain": [
       "1316"
      ]
     },
     "execution_count": 454,
     "metadata": {},
     "output_type": "execute_result"
    }
   ],
   "source": [
    "repeat=len(data.index);repeat"
   ]
  },
  {
   "cell_type": "code",
   "execution_count": 455,
   "metadata": {
    "collapsed": false
   },
   "outputs": [
    {
     "data": {
      "text/plain": [
       "0     Program       Build\n",
       "0     xPONENT  4.2.1324.0\n",
       "1     xPONENT  4.2.1324.0\n",
       "2     xPONENT  4.2.1324.0\n",
       "3     xPONENT  4.2.1324.0\n",
       "4     xPONENT  4.2.1324.0\n",
       "5     xPONENT  4.2.1324.0\n",
       "6     xPONENT  4.2.1324.0\n",
       "7     xPONENT  4.2.1324.0\n",
       "8     xPONENT  4.2.1324.0\n",
       "9     xPONENT  4.2.1324.0\n",
       "10    xPONENT  4.2.1324.0\n",
       "11    xPONENT  4.2.1324.0\n",
       "...       ...         ...\n",
       "1304  xPONENT  4.2.1324.0\n",
       "1305  xPONENT  4.2.1324.0\n",
       "1306  xPONENT  4.2.1324.0\n",
       "1307  xPONENT  4.2.1324.0\n",
       "1308  xPONENT  4.2.1324.0\n",
       "1309  xPONENT  4.2.1324.0\n",
       "1310  xPONENT  4.2.1324.0\n",
       "1311  xPONENT  4.2.1324.0\n",
       "1312  xPONENT  4.2.1324.0\n",
       "1313  xPONENT  4.2.1324.0\n",
       "1314  xPONENT  4.2.1324.0\n",
       "1315  xPONENT  4.2.1324.0\n",
       "\n",
       "[1316 rows x 2 columns]"
      ]
     },
     "execution_count": 455,
     "metadata": {},
     "output_type": "execute_result"
    }
   ],
   "source": [
    "mt_append=mtdata_drop.append([mtdata_drop]*(repeat-1),ignore_index=True);mt_append[[0,1]]"
   ]
  },
  {
   "cell_type": "markdown",
   "metadata": {},
   "source": [
    "##Concat data and metadata"
   ]
  },
  {
   "cell_type": "code",
   "execution_count": 456,
   "metadata": {
    "collapsed": false
   },
   "outputs": [
    {
     "data": {
      "text/plain": [
       "          df2                                                     \n",
       "0    Operator ComputerName Country Code               ProtocolName\n",
       "0       Admin    MAGPIX-PC          409  CAR-T Standard 14 Analyte\n",
       "1       Admin    MAGPIX-PC          409  CAR-T Standard 14 Analyte\n",
       "2       Admin    MAGPIX-PC          409  CAR-T Standard 14 Analyte\n",
       "3       Admin    MAGPIX-PC          409  CAR-T Standard 14 Analyte\n",
       "4       Admin    MAGPIX-PC          409  CAR-T Standard 14 Analyte\n",
       "5       Admin    MAGPIX-PC          409  CAR-T Standard 14 Analyte\n",
       "6       Admin    MAGPIX-PC          409  CAR-T Standard 14 Analyte\n",
       "7       Admin    MAGPIX-PC          409  CAR-T Standard 14 Analyte\n",
       "8       Admin    MAGPIX-PC          409  CAR-T Standard 14 Analyte\n",
       "9       Admin    MAGPIX-PC          409  CAR-T Standard 14 Analyte\n",
       "10      Admin    MAGPIX-PC          409  CAR-T Standard 14 Analyte\n",
       "11      Admin    MAGPIX-PC          409  CAR-T Standard 14 Analyte\n",
       "...       ...          ...          ...                        ...\n",
       "1304    Admin    MAGPIX-PC          409  CAR-T Standard 14 Analyte\n",
       "1305    Admin    MAGPIX-PC          409  CAR-T Standard 14 Analyte\n",
       "1306    Admin    MAGPIX-PC          409  CAR-T Standard 14 Analyte\n",
       "1307    Admin    MAGPIX-PC          409  CAR-T Standard 14 Analyte\n",
       "1308    Admin    MAGPIX-PC          409  CAR-T Standard 14 Analyte\n",
       "1309    Admin    MAGPIX-PC          409  CAR-T Standard 14 Analyte\n",
       "1310    Admin    MAGPIX-PC          409  CAR-T Standard 14 Analyte\n",
       "1311    Admin    MAGPIX-PC          409  CAR-T Standard 14 Analyte\n",
       "1312    Admin    MAGPIX-PC          409  CAR-T Standard 14 Analyte\n",
       "1313    Admin    MAGPIX-PC          409  CAR-T Standard 14 Analyte\n",
       "1314    Admin    MAGPIX-PC          409  CAR-T Standard 14 Analyte\n",
       "1315    Admin    MAGPIX-PC          409  CAR-T Standard 14 Analyte\n",
       "\n",
       "[1316 rows x 4 columns]"
      ]
     },
     "execution_count": 456,
     "metadata": {},
     "output_type": "execute_result"
    }
   ],
   "source": [
    "result=concat(dict(df1=data,df2=mt_append),axis=1);result.ix[:,-5:-1]"
   ]
  },
  {
   "cell_type": "code",
   "execution_count": 457,
   "metadata": {
    "collapsed": false
   },
   "outputs": [],
   "source": [
    "result.columns=result.columns.get_level_values(0)"
   ]
  },
  {
   "cell_type": "code",
   "execution_count": 458,
   "metadata": {
    "collapsed": false
   },
   "outputs": [
    {
     "data": {
      "text/plain": [
       "0              Sample Cytokine        Level  Program       Build\n",
       "0           0.6 pg/ml   Flt-3L  0.363596907  xPONENT  4.2.1324.0\n",
       "1           0.6 pg/ml   GM-CSF  0.687809871  xPONENT  4.2.1324.0\n",
       "2           0.6 pg/ml     IFNg  0.564085731  xPONENT  4.2.1324.0\n",
       "3           0.6 pg/ml    IL-10  0.531045623  xPONENT  4.2.1324.0\n",
       "4           0.6 pg/ml    IL-1B  0.658156369  xPONENT  4.2.1324.0\n",
       "5           0.6 pg/ml     IL-2  0.552731105  xPONENT  4.2.1324.0\n",
       "6           0.6 pg/ml     IL-4    0.5948365  xPONENT  4.2.1324.0\n",
       "7           0.6 pg/ml     IL-5    0.5999923  xPONENT  4.2.1324.0\n",
       "8           0.6 pg/ml     IL-6  0.590719234  xPONENT  4.2.1324.0\n",
       "9           0.6 pg/ml     IL-7  0.189472134  xPONENT  4.2.1324.0\n",
       "10          0.6 pg/ml     IL-8  0.597972915  xPONENT  4.2.1324.0\n",
       "11          0.6 pg/ml   MIP-1a        < 0.6  xPONENT  4.2.1324.0\n",
       "...               ...      ...          ...      ...         ...\n",
       "1304  800499 181 K562     IFNg  65.14185195  xPONENT  4.2.1324.0\n",
       "1305  800499 181 K562    IL-10  37.47172702  xPONENT  4.2.1324.0\n",
       "1306  800499 181 K562    IL-1B  0.237963107  xPONENT  4.2.1324.0\n",
       "1307  800499 181 K562     IL-2  0.306176733  xPONENT  4.2.1324.0\n",
       "1308  800499 181 K562     IL-4     5.893583  xPONENT  4.2.1324.0\n",
       "1309  800499 181 K562     IL-5     12.69529  xPONENT  4.2.1324.0\n",
       "1310  800499 181 K562     IL-6  35.47509549  xPONENT  4.2.1324.0\n",
       "1311  800499 181 K562     IL-7  1.411881057  xPONENT  4.2.1324.0\n",
       "1312  800499 181 K562     IL-8  293.7376031  xPONENT  4.2.1324.0\n",
       "1313  800499 181 K562   MIP-1a  169.9048418  xPONENT  4.2.1324.0\n",
       "1314  800499 181 K562   MIP-1b  112.3099765  xPONENT  4.2.1324.0\n",
       "1315  800499 181 K562     TNFa  11.81495883  xPONENT  4.2.1324.0\n",
       "\n",
       "[1316 rows x 5 columns]"
      ]
     },
     "execution_count": 458,
     "metadata": {},
     "output_type": "execute_result"
    }
   ],
   "source": [
    "result.ix[:,0:5]"
   ]
  },
  {
   "cell_type": "code",
   "execution_count": 459,
   "metadata": {
    "collapsed": false
   },
   "outputs": [
    {
     "data": {
      "text/plain": [
       "0                         Sample Cytokine        Level  Program       Build\n",
       "Sample                                                                     \n",
       "0.6 pg/ml              0.6 pg/ml   Flt-3L  0.363596907  xPONENT  4.2.1324.0\n",
       "0.6 pg/ml              0.6 pg/ml   GM-CSF  0.687809871  xPONENT  4.2.1324.0\n",
       "0.6 pg/ml              0.6 pg/ml     IFNg  0.564085731  xPONENT  4.2.1324.0\n",
       "0.6 pg/ml              0.6 pg/ml    IL-10  0.531045623  xPONENT  4.2.1324.0\n",
       "0.6 pg/ml              0.6 pg/ml    IL-1B  0.658156369  xPONENT  4.2.1324.0\n",
       "0.6 pg/ml              0.6 pg/ml     IL-2  0.552731105  xPONENT  4.2.1324.0\n",
       "0.6 pg/ml              0.6 pg/ml     IL-4    0.5948365  xPONENT  4.2.1324.0\n",
       "0.6 pg/ml              0.6 pg/ml     IL-5    0.5999923  xPONENT  4.2.1324.0\n",
       "0.6 pg/ml              0.6 pg/ml     IL-6  0.590719234  xPONENT  4.2.1324.0\n",
       "0.6 pg/ml              0.6 pg/ml     IL-7  0.189472134  xPONENT  4.2.1324.0\n",
       "0.6 pg/ml              0.6 pg/ml     IL-8  0.597972915  xPONENT  4.2.1324.0\n",
       "0.6 pg/ml              0.6 pg/ml   MIP-1a        < 0.6  xPONENT  4.2.1324.0\n",
       "...                          ...      ...          ...      ...         ...\n",
       "800499 181 K562  800499 181 K562     IFNg  65.14185195  xPONENT  4.2.1324.0\n",
       "800499 181 K562  800499 181 K562    IL-10  37.47172702  xPONENT  4.2.1324.0\n",
       "800499 181 K562  800499 181 K562    IL-1B  0.237963107  xPONENT  4.2.1324.0\n",
       "800499 181 K562  800499 181 K562     IL-2  0.306176733  xPONENT  4.2.1324.0\n",
       "800499 181 K562  800499 181 K562     IL-4     5.893583  xPONENT  4.2.1324.0\n",
       "800499 181 K562  800499 181 K562     IL-5     12.69529  xPONENT  4.2.1324.0\n",
       "800499 181 K562  800499 181 K562     IL-6  35.47509549  xPONENT  4.2.1324.0\n",
       "800499 181 K562  800499 181 K562     IL-7  1.411881057  xPONENT  4.2.1324.0\n",
       "800499 181 K562  800499 181 K562     IL-8  293.7376031  xPONENT  4.2.1324.0\n",
       "800499 181 K562  800499 181 K562   MIP-1a  169.9048418  xPONENT  4.2.1324.0\n",
       "800499 181 K562  800499 181 K562   MIP-1b  112.3099765  xPONENT  4.2.1324.0\n",
       "800499 181 K562  800499 181 K562     TNFa  11.81495883  xPONENT  4.2.1324.0\n",
       "\n",
       "[1316 rows x 5 columns]"
      ]
     },
     "execution_count": 459,
     "metadata": {},
     "output_type": "execute_result"
    }
   ],
   "source": [
    "result.index=result['Sample'];result.ix[:,0:5]"
   ]
  },
  {
   "cell_type": "code",
   "execution_count": 460,
   "metadata": {
    "collapsed": false
   },
   "outputs": [
    {
     "data": {
      "text/plain": [
       "0                         Sample Cytokine        Level\n",
       "Sample                                                \n",
       "0.6 pg/ml              0.6 pg/ml   Flt-3L  0.363596907\n",
       "0.6 pg/ml              0.6 pg/ml   GM-CSF  0.687809871\n",
       "0.6 pg/ml              0.6 pg/ml     IFNg  0.564085731\n",
       "0.6 pg/ml              0.6 pg/ml    IL-10  0.531045623\n",
       "0.6 pg/ml              0.6 pg/ml    IL-1B  0.658156369\n",
       "0.6 pg/ml              0.6 pg/ml     IL-2  0.552731105\n",
       "0.6 pg/ml              0.6 pg/ml     IL-4    0.5948365\n",
       "0.6 pg/ml              0.6 pg/ml     IL-5    0.5999923\n",
       "0.6 pg/ml              0.6 pg/ml     IL-6  0.590719234\n",
       "0.6 pg/ml              0.6 pg/ml     IL-7  0.189472134\n",
       "0.6 pg/ml              0.6 pg/ml     IL-8  0.597972915\n",
       "0.6 pg/ml              0.6 pg/ml   MIP-1a        < 0.6\n",
       "...                          ...      ...          ...\n",
       "800499 181 K562  800499 181 K562     IFNg  65.14185195\n",
       "800499 181 K562  800499 181 K562    IL-10  37.47172702\n",
       "800499 181 K562  800499 181 K562    IL-1B  0.237963107\n",
       "800499 181 K562  800499 181 K562     IL-2  0.306176733\n",
       "800499 181 K562  800499 181 K562     IL-4     5.893583\n",
       "800499 181 K562  800499 181 K562     IL-5     12.69529\n",
       "800499 181 K562  800499 181 K562     IL-6  35.47509549\n",
       "800499 181 K562  800499 181 K562     IL-7  1.411881057\n",
       "800499 181 K562  800499 181 K562     IL-8  293.7376031\n",
       "800499 181 K562  800499 181 K562   MIP-1a  169.9048418\n",
       "800499 181 K562  800499 181 K562   MIP-1b  112.3099765\n",
       "800499 181 K562  800499 181 K562     TNFa  11.81495883\n",
       "\n",
       "[1316 rows x 3 columns]"
      ]
     },
     "execution_count": 460,
     "metadata": {},
     "output_type": "execute_result"
    }
   ],
   "source": [
    "result.ix[:,0:3]"
   ]
  },
  {
   "cell_type": "code",
   "execution_count": 461,
   "metadata": {
    "collapsed": false
   },
   "outputs": [],
   "source": [
    "del result['Sample']"
   ]
  },
  {
   "cell_type": "code",
   "execution_count": 462,
   "metadata": {
    "collapsed": false
   },
   "outputs": [],
   "source": [
    "result.to_csv('C:/Users/wen.zhang/My Data/Luminex/result.txt')"
   ]
  }
 ],
 "metadata": {
  "kernelspec": {
   "display_name": "Python 3",
   "language": "python",
   "name": "python3"
  },
  "language_info": {
   "codemirror_mode": {
    "name": "ipython",
    "version": 3
   },
   "file_extension": ".py",
   "mimetype": "text/x-python",
   "name": "python",
   "nbconvert_exporter": "python",
   "pygments_lexer": "ipython3",
   "version": "3.4.3"
  }
 },
 "nbformat": 4,
 "nbformat_minor": 0
}
