{
 "metadata": {
  "name": "",
  "signature": "sha256:3b3ff5917b6fae251169494c60fa6904c1d861b1ef3fe35e76c4ec9faa2a1740"
 },
 "nbformat": 3,
 "nbformat_minor": 0,
 "worksheets": []
}