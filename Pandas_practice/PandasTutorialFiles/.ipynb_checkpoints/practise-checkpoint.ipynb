{
 "metadata": {
  "name": "",
  "signature": "sha256:079385584c0e0a4ee93d4b15b4957819e339dd7cc8cface1091eca07c97edd4f"
 },
 "nbformat": 3,
 "nbformat_minor": 0,
 "worksheets": [
  {
   "cells": [
    {
     "cell_type": "code",
     "collapsed": false,
     "input": [
      "from pandas import *\n",
      "import pandas\n",
      "import numpy as np\n",
      "\n",
      "def side_by_side(*objs, **kwds):\n",
      "    from pandas.core.common import adjoin\n",
      "    space = kwds.get('space', 4)\n",
      "    reprs = [repr(obj).split('\\n') for obj in objs]\n",
      "    print adjoin(space, *reprs)\n",
      "\n",
      "plt.rc('figure', figsize=(10, 6))\n",
      "pandas.set_option(\"notebook_repr_html\",False)"
     ],
     "language": "python",
     "metadata": {},
     "outputs": [],
     "prompt_number": 1
    },
    {
     "cell_type": "code",
     "collapsed": false,
     "input": [
      "df=read_table(\"i:/study.courses/Bootstrappers@umassmed/R_Nick2014/session1/Session_1.txt\")\n",
      "df"
     ],
     "language": "python",
     "metadata": {},
     "outputs": [],
     "prompt_number": 4
    }
   ],
   "metadata": {}
  }
 ]
}