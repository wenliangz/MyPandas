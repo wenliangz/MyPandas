{
 "cells": [
  {
   "cell_type": "code",
   "execution_count": 9,
   "metadata": {
    "collapsed": false
   },
   "outputs": [],
   "source": [
    "df = DataFrame(np.random.randn(6,4),index=dates,columns=list('ABCD'))"
   ]
  },
  {
   "cell_type": "code",
   "execution_count": 6,
   "metadata": {
    "collapsed": true
   },
   "outputs": [],
   "source": [
    "import pandas as pd\n",
    "import numpy as np"
   ]
  },
  {
   "cell_type": "code",
   "execution_count": 8,
   "metadata": {
    "collapsed": true
   },
   "outputs": [],
   "source": [
    "dates = date_range('20130101',periods=6)"
   ]
  },
  {
   "cell_type": "code",
   "execution_count": 11,
   "metadata": {
    "collapsed": false
   },
   "outputs": [
    {
     "data": {
      "text/html": [
       "<div style=\"max-height:1000px;max-width:1500px;overflow:auto;\">\n",
       "<table border=\"1\" class=\"dataframe\">\n",
       "  <thead>\n",
       "    <tr style=\"text-align: right;\">\n",
       "      <th></th>\n",
       "      <th>A</th>\n",
       "      <th>B</th>\n",
       "      <th>C</th>\n",
       "      <th>D</th>\n",
       "    </tr>\n",
       "  </thead>\n",
       "  <tbody>\n",
       "    <tr>\n",
       "      <th>2013-01-01</th>\n",
       "      <td>0.256510</td>\n",
       "      <td>-0.009768</td>\n",
       "      <td>1.392868</td>\n",
       "      <td>2.437761</td>\n",
       "    </tr>\n",
       "    <tr>\n",
       "      <th>2013-01-02</th>\n",
       "      <td>0.436468</td>\n",
       "      <td>0.112515</td>\n",
       "      <td>0.386818</td>\n",
       "      <td>-0.530137</td>\n",
       "    </tr>\n",
       "    <tr>\n",
       "      <th>2013-01-03</th>\n",
       "      <td>-0.444259</td>\n",
       "      <td>-0.147962</td>\n",
       "      <td>-0.421539</td>\n",
       "      <td>-0.522934</td>\n",
       "    </tr>\n",
       "    <tr>\n",
       "      <th>2013-01-04</th>\n",
       "      <td>0.001962</td>\n",
       "      <td>-0.599219</td>\n",
       "      <td>0.814884</td>\n",
       "      <td>-0.130589</td>\n",
       "    </tr>\n",
       "    <tr>\n",
       "      <th>2013-01-05</th>\n",
       "      <td>0.132610</td>\n",
       "      <td>-0.058458</td>\n",
       "      <td>-0.519486</td>\n",
       "      <td>-0.342923</td>\n",
       "    </tr>\n",
       "    <tr>\n",
       "      <th>2013-01-06</th>\n",
       "      <td>0.679503</td>\n",
       "      <td>0.055484</td>\n",
       "      <td>0.472969</td>\n",
       "      <td>1.204441</td>\n",
       "    </tr>\n",
       "  </tbody>\n",
       "</table>\n",
       "</div>"
      ],
      "text/plain": [
       "                   A         B         C         D\n",
       "2013-01-01  0.256510 -0.009768  1.392868  2.437761\n",
       "2013-01-02  0.436468  0.112515  0.386818 -0.530137\n",
       "2013-01-03 -0.444259 -0.147962 -0.421539 -0.522934\n",
       "2013-01-04  0.001962 -0.599219  0.814884 -0.130589\n",
       "2013-01-05  0.132610 -0.058458 -0.519486 -0.342923\n",
       "2013-01-06  0.679503  0.055484  0.472969  1.204441"
      ]
     },
     "execution_count": 11,
     "metadata": {},
     "output_type": "execute_result"
    }
   ],
   "source": [
    "df"
   ]
  }
 ],
 "metadata": {
  "kernelspec": {
   "display_name": "Python 2",
   "language": "python",
   "name": "python2"
  },
  "language_info": {
   "codemirror_mode": {
    "name": "ipython",
    "version": 2
   },
   "file_extension": ".py",
   "mimetype": "text/x-python",
   "name": "python",
   "nbconvert_exporter": "python",
   "pygments_lexer": "ipython2",
   "version": "2.7.8"
  }
 },
 "nbformat": 4,
 "nbformat_minor": 0
}
