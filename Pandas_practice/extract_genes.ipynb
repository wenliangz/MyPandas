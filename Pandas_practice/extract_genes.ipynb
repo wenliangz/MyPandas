{
 "cells": [
  {
   "cell_type": "code",
   "execution_count": 3,
   "metadata": {
    "collapsed": false
   },
   "outputs": [],
   "source": [
    "import pandas as pd\n",
    "import numpy as np\n",
    "import matplotlib.pyplot as plt\n",
    "# Set some Pandas options\n",
    "pd.set_option('display.notebook_repr_html', False)\n",
    "pd.set_option('display.max_columns', 20)\n",
    "pd.set_option('display.max_rows', 25)"
   ]
  },
  {
   "cell_type": "code",
   "execution_count": 4,
   "metadata": {
    "collapsed": true
   },
   "outputs": [],
   "source": [
    "from pandas import *\n",
    "from pylab import *"
   ]
  },
  {
   "cell_type": "code",
   "execution_count": 6,
   "metadata": {
    "collapsed": false,
    "scrolled": true
   },
   "outputs": [
    {
     "name": "stdout",
     "output_type": "stream",
     "text": [
      "Populating the interactive namespace from numpy and matplotlib\n"
     ]
    },
    {
     "name": "stderr",
     "output_type": "stream",
     "text": [
      "WARNING: pylab import has clobbered these variables: ['info', 'linalg', 'draw_if_interactive', 'random', 'datetime', 'fft', 'load', 'save', 'unique', 'power']\n",
      "`%matplotlib` prevents importing * from pylab and numpy\n"
     ]
    }
   ],
   "source": [
    "%pylab inline"
   ]
  },
  {
   "cell_type": "code",
   "execution_count": 7,
   "metadata": {
    "collapsed": false
   },
   "outputs": [
    {
     "data": {
      "text/plain": [
       "[<matplotlib.lines.Line2D at 0xc045fd0>]"
      ]
     },
     "execution_count": 7,
     "metadata": {},
     "output_type": "execute_result"
    },
    {
     "data": {
      "image/png": "[encoded data removed]",
      "text/plain": [
       "<matplotlib.figure.Figure at 0x402fc18>"
      ]
     },
     "metadata": {},
     "output_type": "display_data"
    }
   ],
   "source": [
    "plt.plot(arange(10))"
   ]
  },
  {
   "cell_type": "code",
   "execution_count": 8,
   "metadata": {
    "collapsed": false
   },
   "outputs": [],
   "source": [
    "sample_annotation=read_table(\"j:/BlueBirdBio/DATA/MM millennium datasets/millennium_sample_info.txt\")"
   ]
  },
  {
   "cell_type": "code",
   "execution_count": 10,
   "metadata": {
    "collapsed": false
   },
   "outputs": [],
   "source": [
    "sample_id=[sample for sample in sample_annotation.iteritems()][0]"
   ]
  },
  {
   "cell_type": "code",
   "execution_count": 12,
   "metadata": {
    "collapsed": false
   },
   "outputs": [
    {
     "data": {
      "text/plain": [
       "   Sample ID  Study code   Treatment     Sex                    Race  \\\n",
       "0  MPM002090          40  Bortezomib    Male                   White   \n",
       "1  MPM002091          40  Bortezomib  Female                   White   \n",
       "2  MPM002092          40  Bortezomib  Female                   White   \n",
       "3  MPM002097          40  Bortezomib  Female                   White   \n",
       "4  MPM002104          40  Bortezomib    Male  Asian/Pacific Islander   \n",
       "\n",
       "   Age at randomization Date of randomization Myeloma subtype  \\\n",
       "0                    55             20-Sep-02     Light chain   \n",
       "1                    67             30-Sep-02             IgG   \n",
       "2                    53             23-Sep-02             IgA   \n",
       "3                    66             22-Oct-02             IgG   \n",
       "4                    48             13-Aug-02             IgG   \n",
       "\n",
       "  Response to treatment Responder      ...       \\\n",
       "0                    NC        NR      ...        \n",
       "1                    NC        NR      ...        \n",
       "2                    PR         R      ...        \n",
       "3                    NC        NR      ...        \n",
       "4                    PR         R      ...        \n",
       "\n",
       "   Time of therapy addition (days)  death Survival Albumin      CRP  \\\n",
       "0                              NaN      1      106      41  Unknown   \n",
       "1                              NaN      1      372      38  Unknown   \n",
       "2                              158      1      212      32  Unknown   \n",
       "3                               85      1      184      29  Unknown   \n",
       "4                              NaN      1      968      37  Unknown   \n",
       "\n",
       "   Beta 2 microglobulin  Prior lines of therapy Mean myeloma score  \\\n",
       "0               Unknown                       4              21.20   \n",
       "1               Unknown                       4              12.30   \n",
       "2               Unknown                       4              24.26   \n",
       "3               Unknown                       4              51.40   \n",
       "4               Unknown                       4              30.96   \n",
       "\n",
       "  Mayo Clinic proliferation index TC Class 2006  \n",
       "0                                            D1  \n",
       "1                      1.37023388         11q13  \n",
       "2                     1.693250841         11q13  \n",
       "3                     0.615928825            D3  \n",
       "4                      0.90557126          4p16  \n",
       "\n",
       "[5 rows x 24 columns]"
      ]
     },
     "execution_count": 12,
     "metadata": {},
     "output_type": "execute_result"
    }
   ],
   "source": [
    "sample_annotation.head()"
   ]
  },
  {
   "cell_type": "code",
   "execution_count": 13,
   "metadata": {
    "collapsed": false
   },
   "outputs": [],
   "source": [
    "sample=sample_annotation[['Sample ID','Response to treatment','Responder','death']]"
   ]
  },
  {
   "cell_type": "code",
   "execution_count": 14,
   "metadata": {
    "collapsed": false
   },
   "outputs": [],
   "source": [
    "data=read_table(\"j:/BlueBirdBio/DATA/MM millennium datasets/mulligan_et_al_mas5.gct\",skiprows=[0,1])"
   ]
  },
  {
   "cell_type": "code",
   "execution_count": 16,
   "metadata": {
    "collapsed": true
   },
   "outputs": [],
   "source": [
    "goi=['TGFB1','TGFB2','TGFB3']"
   ]
  },
  {
   "cell_type": "code",
   "execution_count": 192,
   "metadata": {
    "collapsed": false
   },
   "outputs": [],
   "source": [
    "data_goi=data[data['Description'].isin(goi)]"
   ]
  },
  {
   "cell_type": "code",
   "execution_count": 204,
   "metadata": {
    "collapsed": false,
    "scrolled": true
   },
   "outputs": [
    {
     "data": {
      "text/plain": [
       "              Name Description  MPM002090  MPM002091  MPM002092  MPM002097  \\\n",
       "2612     203084_at       TGFB1   17.44711   10.60707    9.97518   13.17296   \n",
       "2613   203085_s_at       TGFB1  111.70229  175.38358  160.90292  200.94611   \n",
       "9234     209747_at       TGFB3  132.28601  129.92003  108.57371  103.65145   \n",
       "9393   209908_s_at       TGFB2   29.85103   27.82430   19.52640   21.89530   \n",
       "9394   209909_s_at       TGFB2    1.84034    2.52605    7.25182    2.72177   \n",
       "19769    220406_at       TGFB2   55.66126   10.13891    9.48710   45.93821   \n",
       "19770  220407_s_at       TGFB2   68.28698   31.93281   41.14301   20.04541   \n",
       "\n",
       "       MPM002104  MPM002105  MPM002106  MPM002111    ...      MPR007446  \\\n",
       "2612    32.15286   14.07384    6.39628   11.14054    ...        8.81552   \n",
       "2613   156.94405  181.91303  204.80713  134.44742    ...      108.40612   \n",
       "9234   172.98982  105.55342  121.14122  201.90248    ...      128.69829   \n",
       "9393    56.07945   21.86207   33.36821   41.83493    ...       66.81715   \n",
       "9394    12.36512    7.56374   18.04993   27.15178    ...       46.74459   \n",
       "19769   49.77836   51.50981   56.72019   61.45334    ...       28.49688   \n",
       "19770   19.25982   43.85933   42.13445   73.46885    ...      119.07817   \n",
       "\n",
       "       MPR007447  MPR007449  MPR007450  MPR007451  MPR007453  MPR007454  \\\n",
       "2612     9.90334    7.20037   11.47420   12.27771    7.60893    9.41936   \n",
       "2613   196.14040  304.48108  327.70694  203.47936  197.66129  216.01330   \n",
       "9234   138.09877  172.23375  241.74268  190.55585   99.37722  256.66293   \n",
       "9393    53.78067   41.42474   72.98629   52.46004   73.76692  107.76666   \n",
       "9394     4.52795   11.53919    5.56313    7.31493   10.39214   21.28199   \n",
       "19769   22.43178   50.11933   61.93100   50.38793   53.59517   61.51368   \n",
       "19770   47.12748   56.64064   45.02154   61.90097   10.02567   83.82836   \n",
       "\n",
       "       MPR007462  MPR007614  MPR008045  \n",
       "2612    27.88065   10.86273   31.17081  \n",
       "2613   252.04398  231.95818  152.81647  \n",
       "9234   164.35268  173.25780  221.00165  \n",
       "9393    88.67555   52.65918   70.29513  \n",
       "9394    51.92594   17.00462   29.88192  \n",
       "19769   37.86907   62.85891   99.23523  \n",
       "19770   14.95096   61.69255  136.19072  \n",
       "\n",
       "[7 rows x 266 columns]"
      ]
     },
     "execution_count": 204,
     "metadata": {},
     "output_type": "execute_result"
    }
   ],
   "source": [
    "data_goi"
   ]
  },
  {
   "cell_type": "code",
   "execution_count": 205,
   "metadata": {
    "collapsed": false,
    "scrolled": true
   },
   "outputs": [],
   "source": [
    "grouped=data_goi.groupby([\"Name\",\"Description\"]).sum()"
   ]
  },
  {
   "cell_type": "code",
   "execution_count": 206,
   "metadata": {
    "collapsed": false
   },
   "outputs": [
    {
     "data": {
      "text/plain": [
       "                         MPM002090  MPM002091  MPM002092  MPM002097  \\\n",
       "Name        Description                                               \n",
       "203084_at   TGFB1         17.44711   10.60707    9.97518   13.17296   \n",
       "203085_s_at TGFB1        111.70229  175.38358  160.90292  200.94611   \n",
       "209747_at   TGFB3        132.28601  129.92003  108.57371  103.65145   \n",
       "209908_s_at TGFB2         29.85103   27.82430   19.52640   21.89530   \n",
       "209909_s_at TGFB2          1.84034    2.52605    7.25182    2.72177   \n",
       "220406_at   TGFB2         55.66126   10.13891    9.48710   45.93821   \n",
       "220407_s_at TGFB2         68.28698   31.93281   41.14301   20.04541   \n",
       "\n",
       "                         MPM002104  MPM002105  MPM002106  MPM002111  \\\n",
       "Name        Description                                               \n",
       "203084_at   TGFB1         32.15286   14.07384    6.39628   11.14054   \n",
       "203085_s_at TGFB1        156.94405  181.91303  204.80713  134.44742   \n",
       "209747_at   TGFB3        172.98982  105.55342  121.14122  201.90248   \n",
       "209908_s_at TGFB2         56.07945   21.86207   33.36821   41.83493   \n",
       "209909_s_at TGFB2         12.36512    7.56374   18.04993   27.15178   \n",
       "220406_at   TGFB2         49.77836   51.50981   56.72019   61.45334   \n",
       "220407_s_at TGFB2         19.25982   43.85933   42.13445   73.46885   \n",
       "\n",
       "                         MPM002123  MPM002124    ...      MPR007446  \\\n",
       "Name        Description                          ...                  \n",
       "203084_at   TGFB1         14.69504    9.04155    ...        8.81552   \n",
       "203085_s_at TGFB1        121.53297  196.95547    ...      108.40612   \n",
       "209747_at   TGFB3        157.65171  120.11356    ...      128.69829   \n",
       "209908_s_at TGFB2         27.83398   38.52618    ...       66.81715   \n",
       "209909_s_at TGFB2         11.20683   10.93762    ...       46.74459   \n",
       "220406_at   TGFB2         20.48138   39.56142    ...       28.49688   \n",
       "220407_s_at TGFB2         37.08855   36.46602    ...      119.07817   \n",
       "\n",
       "                         MPR007447  MPR007449  MPR007450  MPR007451  \\\n",
       "Name        Description                                               \n",
       "203084_at   TGFB1          9.90334    7.20037   11.47420   12.27771   \n",
       "203085_s_at TGFB1        196.14040  304.48108  327.70694  203.47936   \n",
       "209747_at   TGFB3        138.09877  172.23375  241.74268  190.55585   \n",
       "209908_s_at TGFB2         53.78067   41.42474   72.98629   52.46004   \n",
       "209909_s_at TGFB2          4.52795   11.53919    5.56313    7.31493   \n",
       "220406_at   TGFB2         22.43178   50.11933   61.93100   50.38793   \n",
       "220407_s_at TGFB2         47.12748   56.64064   45.02154   61.90097   \n",
       "\n",
       "                         MPR007453  MPR007454  MPR007462  MPR007614  MPR008045  \n",
       "Name        Description                                                         \n",
       "203084_at   TGFB1          7.60893    9.41936   27.88065   10.86273   31.17081  \n",
       "203085_s_at TGFB1        197.66129  216.01330  252.04398  231.95818  152.81647  \n",
       "209747_at   TGFB3         99.37722  256.66293  164.35268  173.25780  221.00165  \n",
       "209908_s_at TGFB2         73.76692  107.76666   88.67555   52.65918   70.29513  \n",
       "209909_s_at TGFB2         10.39214   21.28199   51.92594   17.00462   29.88192  \n",
       "220406_at   TGFB2         53.59517   61.51368   37.86907   62.85891   99.23523  \n",
       "220407_s_at TGFB2         10.02567   83.82836   14.95096   61.69255  136.19072  \n",
       "\n",
       "[7 rows x 264 columns]"
      ]
     },
     "execution_count": 206,
     "metadata": {},
     "output_type": "execute_result"
    }
   ],
   "source": [
    "grouped"
   ]
  },
  {
   "cell_type": "code",
   "execution_count": 207,
   "metadata": {
    "collapsed": false
   },
   "outputs": [],
   "source": [
    "stacked=grouped.stack()"
   ]
  },
  {
   "cell_type": "code",
   "execution_count": 208,
   "metadata": {
    "collapsed": false
   },
   "outputs": [
    {
     "data": {
      "text/plain": [
       "Name         Description           \n",
       "203084_at    TGFB1        MPM002090     17.44711\n",
       "                          MPM002091     10.60707\n",
       "                          MPM002092      9.97518\n",
       "                          MPM002097     13.17296\n",
       "                          MPM002104     32.15286\n",
       "                          MPM002105     14.07384\n",
       "                          MPM002106      6.39628\n",
       "                          MPM002111     11.14054\n",
       "                          MPM002123     14.69504\n",
       "                          MPM002124      9.04155\n",
       "                          MPM002125     14.32149\n",
       "                          MPM002126     12.47660\n",
       "                                         ...    \n",
       "220407_s_at  TGFB2        MPR007444     26.59796\n",
       "                          MPR007445     59.65236\n",
       "                          MPR007446    119.07817\n",
       "                          MPR007447     47.12748\n",
       "                          MPR007449     56.64064\n",
       "                          MPR007450     45.02154\n",
       "                          MPR007451     61.90097\n",
       "                          MPR007453     10.02567\n",
       "                          MPR007454     83.82836\n",
       "                          MPR007462     14.95096\n",
       "                          MPR007614     61.69255\n",
       "                          MPR008045    136.19072\n",
       "dtype: float64"
      ]
     },
     "execution_count": 208,
     "metadata": {},
     "output_type": "execute_result"
    }
   ],
   "source": [
    "#stack to make a multiple-indexed Series\n",
    "stacked"
   ]
  },
  {
   "cell_type": "code",
   "execution_count": 209,
   "metadata": {
    "collapsed": false
   },
   "outputs": [],
   "source": [
    "#change the index names of Series\n",
    "stacked.index.names=[\"Probe\",\"Genes\",\"Sample ID\"]"
   ]
  },
  {
   "cell_type": "code",
   "execution_count": 210,
   "metadata": {
    "collapsed": false
   },
   "outputs": [
    {
     "data": {
      "text/plain": [
       "Probe        Genes  Sample ID\n",
       "203084_at    TGFB1  MPM002090     17.44711\n",
       "                    MPM002091     10.60707\n",
       "                    MPM002092      9.97518\n",
       "                    MPM002097     13.17296\n",
       "                    MPM002104     32.15286\n",
       "                    MPM002105     14.07384\n",
       "                    MPM002106      6.39628\n",
       "                    MPM002111     11.14054\n",
       "                    MPM002123     14.69504\n",
       "                    MPM002124      9.04155\n",
       "                    MPM002125     14.32149\n",
       "                    MPM002126     12.47660\n",
       "                                   ...    \n",
       "220407_s_at  TGFB2  MPR007444     26.59796\n",
       "                    MPR007445     59.65236\n",
       "                    MPR007446    119.07817\n",
       "                    MPR007447     47.12748\n",
       "                    MPR007449     56.64064\n",
       "                    MPR007450     45.02154\n",
       "                    MPR007451     61.90097\n",
       "                    MPR007453     10.02567\n",
       "                    MPR007454     83.82836\n",
       "                    MPR007462     14.95096\n",
       "                    MPR007614     61.69255\n",
       "                    MPR008045    136.19072\n",
       "dtype: float64"
      ]
     },
     "execution_count": 210,
     "metadata": {},
     "output_type": "execute_result"
    }
   ],
   "source": [
    "stacked"
   ]
  },
  {
   "cell_type": "code",
   "execution_count": 211,
   "metadata": {
    "collapsed": false
   },
   "outputs": [],
   "source": [
    "#reset index and automatically flat the multiple-index Series into dataframe\n",
    "stacked=stacked.reset_index()"
   ]
  },
  {
   "cell_type": "code",
   "execution_count": 212,
   "metadata": {
    "collapsed": false
   },
   "outputs": [
    {
     "data": {
      "text/plain": [
       "            Probe  Genes  Sample ID          0\n",
       "0       203084_at  TGFB1  MPM002090   17.44711\n",
       "1       203084_at  TGFB1  MPM002091   10.60707\n",
       "2       203084_at  TGFB1  MPM002092    9.97518\n",
       "3       203084_at  TGFB1  MPM002097   13.17296\n",
       "4       203084_at  TGFB1  MPM002104   32.15286\n",
       "5       203084_at  TGFB1  MPM002105   14.07384\n",
       "6       203084_at  TGFB1  MPM002106    6.39628\n",
       "7       203084_at  TGFB1  MPM002111   11.14054\n",
       "8       203084_at  TGFB1  MPM002123   14.69504\n",
       "9       203084_at  TGFB1  MPM002124    9.04155\n",
       "10      203084_at  TGFB1  MPM002125   14.32149\n",
       "11      203084_at  TGFB1  MPM002126   12.47660\n",
       "...           ...    ...        ...        ...\n",
       "1836  220407_s_at  TGFB2  MPR007444   26.59796\n",
       "1837  220407_s_at  TGFB2  MPR007445   59.65236\n",
       "1838  220407_s_at  TGFB2  MPR007446  119.07817\n",
       "1839  220407_s_at  TGFB2  MPR007447   47.12748\n",
       "1840  220407_s_at  TGFB2  MPR007449   56.64064\n",
       "1841  220407_s_at  TGFB2  MPR007450   45.02154\n",
       "1842  220407_s_at  TGFB2  MPR007451   61.90097\n",
       "1843  220407_s_at  TGFB2  MPR007453   10.02567\n",
       "1844  220407_s_at  TGFB2  MPR007454   83.82836\n",
       "1845  220407_s_at  TGFB2  MPR007462   14.95096\n",
       "1846  220407_s_at  TGFB2  MPR007614   61.69255\n",
       "1847  220407_s_at  TGFB2  MPR008045  136.19072\n",
       "\n",
       "[1848 rows x 4 columns]"
      ]
     },
     "execution_count": 212,
     "metadata": {},
     "output_type": "execute_result"
    }
   ],
   "source": [
    "stacked"
   ]
  },
  {
   "cell_type": "code",
   "execution_count": 213,
   "metadata": {
    "collapsed": false
   },
   "outputs": [],
   "source": [
    "stacked=stacked.rename(columns = {0:'Expression'})"
   ]
  },
  {
   "cell_type": "code",
   "execution_count": 220,
   "metadata": {
    "collapsed": false
   },
   "outputs": [],
   "source": [
    "#Joining two dataframes\n",
    "data_merge=stacked.merge(sample_annotation, how='inner',on=\"Sample ID\")"
   ]
  },
  {
   "cell_type": "code",
   "execution_count": 222,
   "metadata": {
    "collapsed": false
   },
   "outputs": [
    {
     "data": {
      "text/plain": [
       "            Probe  Genes  Sample ID  Expression  Study code      Treatment  \\\n",
       "0       203084_at  TGFB1  MPM002090    17.44711          40     Bortezomib   \n",
       "1     203085_s_at  TGFB1  MPM002090   111.70229          40     Bortezomib   \n",
       "2       209747_at  TGFB3  MPM002090   132.28601          40     Bortezomib   \n",
       "3     209908_s_at  TGFB2  MPM002090    29.85103          40     Bortezomib   \n",
       "4     209909_s_at  TGFB2  MPM002090     1.84034          40     Bortezomib   \n",
       "5       220406_at  TGFB2  MPM002090    55.66126          40     Bortezomib   \n",
       "6     220407_s_at  TGFB2  MPM002090    68.28698          40     Bortezomib   \n",
       "7       203084_at  TGFB1  MPM002091    10.60707          40     Bortezomib   \n",
       "8     203085_s_at  TGFB1  MPM002091   175.38358          40     Bortezomib   \n",
       "9       209747_at  TGFB3  MPM002091   129.92003          40     Bortezomib   \n",
       "10    209908_s_at  TGFB2  MPM002091    27.82430          40     Bortezomib   \n",
       "11    209909_s_at  TGFB2  MPM002091     2.52605          40     Bortezomib   \n",
       "...           ...    ...        ...         ...         ...            ...   \n",
       "1836    209747_at  TGFB3  MPR007614   173.25780          39     Bortezomib   \n",
       "1837  209908_s_at  TGFB2  MPR007614    52.65918          39     Bortezomib   \n",
       "1838  209909_s_at  TGFB2  MPR007614    17.00462          39     Bortezomib   \n",
       "1839    220406_at  TGFB2  MPR007614    62.85891          39     Bortezomib   \n",
       "1840  220407_s_at  TGFB2  MPR007614    61.69255          39     Bortezomib   \n",
       "1841    203084_at  TGFB1  MPR008045    31.17081          39  Dexamethasone   \n",
       "1842  203085_s_at  TGFB1  MPR008045   152.81647          39  Dexamethasone   \n",
       "1843    209747_at  TGFB3  MPR008045   221.00165          39  Dexamethasone   \n",
       "1844  209908_s_at  TGFB2  MPR008045    70.29513          39  Dexamethasone   \n",
       "1845  209909_s_at  TGFB2  MPR008045    29.88192          39  Dexamethasone   \n",
       "1846    220406_at  TGFB2  MPR008045    99.23523          39  Dexamethasone   \n",
       "1847  220407_s_at  TGFB2  MPR008045   136.19072          39  Dexamethasone   \n",
       "\n",
       "         Sex   Race  Age at randomization Date of randomization  \\\n",
       "0       Male  White                    55             20-Sep-02   \n",
       "1       Male  White                    55             20-Sep-02   \n",
       "2       Male  White                    55             20-Sep-02   \n",
       "3       Male  White                    55             20-Sep-02   \n",
       "4       Male  White                    55             20-Sep-02   \n",
       "5       Male  White                    55             20-Sep-02   \n",
       "6       Male  White                    55             20-Sep-02   \n",
       "7     Female  White                    67             30-Sep-02   \n",
       "8     Female  White                    67             30-Sep-02   \n",
       "9     Female  White                    67             30-Sep-02   \n",
       "10    Female  White                    67             30-Sep-02   \n",
       "11    Female  White                    67             30-Sep-02   \n",
       "...      ...    ...                   ...                   ...   \n",
       "1836  Female  White                    51             16-Jul-03   \n",
       "1837  Female  White                    51             16-Jul-03   \n",
       "1838  Female  White                    51             16-Jul-03   \n",
       "1839  Female  White                    51             16-Jul-03   \n",
       "1840  Female  White                    51             16-Jul-03   \n",
       "1841    Male  White                    57             11-Nov-02   \n",
       "1842    Male  White                    57             11-Nov-02   \n",
       "1843    Male  White                    57             11-Nov-02   \n",
       "1844    Male  White                    57             11-Nov-02   \n",
       "1845    Male  White                    57             11-Nov-02   \n",
       "1846    Male  White                    57             11-Nov-02   \n",
       "1847    Male  White                    57             11-Nov-02   \n",
       "\n",
       "          ...       Time of therapy addition (days) death Survival  Albumin  \\\n",
       "0         ...                                   NaN     1      106       41   \n",
       "1         ...                                   NaN     1      106       41   \n",
       "2         ...                                   NaN     1      106       41   \n",
       "3         ...                                   NaN     1      106       41   \n",
       "4         ...                                   NaN     1      106       41   \n",
       "5         ...                                   NaN     1      106       41   \n",
       "6         ...                                   NaN     1      106       41   \n",
       "7         ...                                   NaN     1      372       38   \n",
       "8         ...                                   NaN     1      372       38   \n",
       "9         ...                                   NaN     1      372       38   \n",
       "10        ...                                   NaN     1      372       38   \n",
       "11        ...                                   NaN     1      372       38   \n",
       "...       ...                                   ...   ...      ...      ...   \n",
       "1836      ...                                   NaN     1      685       42   \n",
       "1837      ...                                   NaN     1      685       42   \n",
       "1838      ...                                   NaN     1      685       42   \n",
       "1839      ...                                   NaN     1      685       42   \n",
       "1840      ...                                   NaN     1      685       42   \n",
       "1841      ...                                   NaN     1      404       38   \n",
       "1842      ...                                   NaN     1      404       38   \n",
       "1843      ...                                   NaN     1      404       38   \n",
       "1844      ...                                   NaN     1      404       38   \n",
       "1845      ...                                   NaN     1      404       38   \n",
       "1846      ...                                   NaN     1      404       38   \n",
       "1847      ...                                   NaN     1      404       38   \n",
       "\n",
       "          CRP Beta 2 microglobulin Prior lines of therapy Mean myeloma score  \\\n",
       "0     Unknown              Unknown                      4              21.20   \n",
       "1     Unknown              Unknown                      4              21.20   \n",
       "2     Unknown              Unknown                      4              21.20   \n",
       "3     Unknown              Unknown                      4              21.20   \n",
       "4     Unknown              Unknown                      4              21.20   \n",
       "5     Unknown              Unknown                      4              21.20   \n",
       "6     Unknown              Unknown                      4              21.20   \n",
       "7     Unknown              Unknown                      4              12.30   \n",
       "8     Unknown              Unknown                      4              12.30   \n",
       "9     Unknown              Unknown                      4              12.30   \n",
       "10    Unknown              Unknown                      4              12.30   \n",
       "11    Unknown              Unknown                      4              12.30   \n",
       "...       ...                  ...                    ...                ...   \n",
       "1836        4                  1.8                      1              45.37   \n",
       "1837        4                  1.8                      1              45.37   \n",
       "1838        4                  1.8                      1              45.37   \n",
       "1839        4                  1.8                      1              45.37   \n",
       "1840        4                  1.8                      1              45.37   \n",
       "1841      5.5                 10.6                      6              28.29   \n",
       "1842      5.5                 10.6                      6              28.29   \n",
       "1843      5.5                 10.6                      6              28.29   \n",
       "1844      5.5                 10.6                      6              28.29   \n",
       "1845      5.5                 10.6                      6              28.29   \n",
       "1846      5.5                 10.6                      6              28.29   \n",
       "1847      5.5                 10.6                      6              28.29   \n",
       "\n",
       "      Mayo Clinic proliferation index  TC Class 2006  \n",
       "0                                                 D1  \n",
       "1                                                 D1  \n",
       "2                                                 D1  \n",
       "3                                                 D1  \n",
       "4                                                 D1  \n",
       "5                                                 D1  \n",
       "6                                                 D1  \n",
       "7                          1.37023388          11q13  \n",
       "8                          1.37023388          11q13  \n",
       "9                          1.37023388          11q13  \n",
       "10                         1.37023388          11q13  \n",
       "11                         1.37023388          11q13  \n",
       "...                               ...            ...  \n",
       "1836                      0.821343983             D1  \n",
       "1837                      0.821343983             D1  \n",
       "1838                      0.821343983             D1  \n",
       "1839                      0.821343983             D1  \n",
       "1840                      0.821343983             D1  \n",
       "1841                      1.103982754          11q13  \n",
       "1842                      1.103982754          11q13  \n",
       "1843                      1.103982754          11q13  \n",
       "1844                      1.103982754          11q13  \n",
       "1845                      1.103982754          11q13  \n",
       "1846                      1.103982754          11q13  \n",
       "1847                      1.103982754          11q13  \n",
       "\n",
       "[1848 rows x 27 columns]"
      ]
     },
     "execution_count": 222,
     "metadata": {},
     "output_type": "execute_result"
    }
   ],
   "source": [
    "data_merge"
   ]
  },
  {
   "cell_type": "code",
   "execution_count": 223,
   "metadata": {
    "collapsed": false
   },
   "outputs": [],
   "source": [
    "data_merge.to_csv(\"pandas_results.txt\",index=False, sep='\\t')"
   ]
  }
 ],
 "metadata": {
  "kernelspec": {
   "display_name": "Python 3",
   "language": "python",
   "name": "python3"
  },
  "language_info": {
   "codemirror_mode": {
    "name": "ipython",
    "version": 3
   },
   "file_extension": ".py",
   "mimetype": "text/x-python",
   "name": "python",
   "nbconvert_exporter": "python",
   "pygments_lexer": "ipython3",
   "version": "3.4.3"
  }
 },
 "nbformat": 4,
 "nbformat_minor": 0
}
